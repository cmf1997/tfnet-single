{
 "cells": [
  {
   "cell_type": "markdown",
   "metadata": {},
   "source": [
    "## Presence of tfs family in different cell line"
   ]
  },
  {
   "cell_type": "code",
   "execution_count": null,
   "metadata": {},
   "outputs": [],
   "source": [
    "import matplotlib.pyplot as plt\n",
    "import pandas as pd\n",
    "from comut import comut\n",
    "import seaborn as sns"
   ]
  },
  {
   "cell_type": "code",
   "execution_count": null,
   "metadata": {},
   "outputs": [],
   "source": [
    "plt.rcParams['figure.dpi'] = 150"
   ]
  },
  {
   "cell_type": "code",
   "execution_count": null,
   "metadata": {},
   "outputs": [],
   "source": [
    "safari_options = Options()\n",
    "safari_options.add_argument(\"headless\")"
   ]
  },
  {
   "cell_type": "code",
   "execution_count": null,
   "metadata": {},
   "outputs": [],
   "source": [
    "baseurl = r'https://www.encodeproject.org/matrix/?type=Experiment&control_type%21=%2A&status=released&perturbed=false&assay_title=TF+ChIP-seq&target.investigated_as=transcription+factor&replicates.library.biosample.donor.organism.scientific_name=Homo+sapiens&biosample_ontology.classification=cell+line&biosample_ontology.term_name='"
   ]
  },
  {
   "cell_type": "code",
   "execution_count": null,
   "metadata": {},
   "outputs": [],
   "source": [
    "# select cell : HepG2, K562, HEK293, GM12878, MCF-7, WTC11, A549, SK-N-SH, HeLa-S3, H1"
   ]
  },
  {
   "cell_type": "code",
   "execution_count": null,
   "metadata": {},
   "outputs": [],
   "source": [
    "cell_lines = []\n",
    "tfs = []\n",
    "counts = []\n",
    "\n",
    "for cellline in ['HepG2', 'K562', 'HEK293', 'GM12878', 'MCF-7', 'WTC11', 'A549', 'SK-N-SH', 'HeLa-S3', 'H1']:\n",
    "    url = baseurl + cellline\n",
    "    dr = webdriver.Safari(options=safari_options)\n",
    "    dr.implicitly_wait(10)\n",
    "    dr.get(url)\n",
    "    dr.implicitly_wait(10)\n",
    "    tfs_div = dr.find_element(By.XPATH,'//*[@id=\"facet-group-Assay-Experiment\"]/div[4]/div/div[2]/ul/div[1]')\n",
    "    tf_div = tfs_div.find_elements(By.CLASS_NAME, 'facet-term')\n",
    "    for index, tf in enumerate(tf_div):\n",
    "        cell_lines.append(cellline)\n",
    "        tfs.append(tf.find_element(By.CLASS_NAME, 'facet-term__text').text)\n",
    "        counts.append(tf.find_element(By.CLASS_NAME, 'facet-term__count').text)\n",
    "    dr.quit()\n"
   ]
  },
  {
   "cell_type": "code",
   "execution_count": null,
   "metadata": {},
   "outputs": [],
   "source": [
    "tfs_data_encode = pd.DataFrame({\n",
    "    \"Cell\" : cell_lines,\n",
    "    \"TF\" : tfs,\n",
    "    \"Count\" : counts\n",
    "})"
   ]
  },
  {
   "cell_type": "code",
   "execution_count": null,
   "metadata": {},
   "outputs": [],
   "source": [
    "tfs_data_encode.groupby('Cell').size()"
   ]
  },
  {
   "cell_type": "code",
   "execution_count": null,
   "metadata": {},
   "outputs": [],
   "source": [
    "tfs_family = pd.read_csv('data/tfs_family.csv')\n",
    "tfs_family_dict = dict(tfs_family[['Name','Family']].values)\n",
    "\n",
    "# add Unkonw\n",
    "for i in tfs_data_encode['TF']:\n",
    "    if i in tfs_family_dict.keys():\n",
    "        pass\n",
    "    else:\n",
    "        tfs_family_dict[i] = \"Unknown\"\n",
    "\n"
   ]
  },
  {
   "cell_type": "code",
   "execution_count": null,
   "metadata": {},
   "outputs": [],
   "source": [
    "tfs_data_encode['Family'] = [ tfs_family_dict[i] for i in tfs_data_encode['TF'] ]"
   ]
  },
  {
   "cell_type": "code",
   "execution_count": null,
   "metadata": {},
   "outputs": [],
   "source": []
  },
  {
   "cell_type": "code",
   "execution_count": null,
   "metadata": {},
   "outputs": [],
   "source": [
    "sns.barplot(tfs_data_encode.groupby(['Cell', 'Family']).size().reset_index(name=\"Count\"), x = \"Family\", y=\"Count\", hue=\"Cell\")\n",
    "plt.tick_params(axis='x', labelrotation=45)\n",
    "plt.show()"
   ]
  },
  {
   "cell_type": "code",
   "execution_count": null,
   "metadata": {},
   "outputs": [],
   "source": [
    "tfs_data_encode.groupby(['Cell', 'Family']).size()"
   ]
  },
  {
   "cell_type": "code",
   "execution_count": null,
   "metadata": {},
   "outputs": [],
   "source": [
    "len(tfs_data_encode.drop_duplicates('Family')['Family'])"
   ]
  },
  {
   "cell_type": "code",
   "execution_count": null,
   "metadata": {},
   "outputs": [],
   "source": [
    "comut_data = tfs_data_encode.groupby(['Cell', 'Family']).size().reset_index(name=\"Count\")\n",
    "comut_data.columns = ['category', 'sample', 'value']\n",
    "#comut_data['value'] = [ 1/ (1 + np.exp(-i)) for i in comut_data['value'].tolist() ]\n",
    "comut_data['value'] = \"1\""
   ]
  },
  {
   "cell_type": "code",
   "execution_count": null,
   "metadata": {},
   "outputs": [],
   "source": [
    "family_comut = comut.CoMut()\n",
    "mut_mapping={\"1\":\"#4876FF\"}\n",
    "family_comut.add_categorical_data(comut_data, name='type',mapping=mut_mapping)\n",
    "#family_comut.add_continuous_data(comut_data, name='type')\n",
    "family_comut.plot_comut(figsize = (10,3),x_padding = 0.04, y_padding = 0.04)\n",
    "plt.savefig(\"results/encode.tf.family.pdf\")"
   ]
  },
  {
   "cell_type": "code",
   "execution_count": null,
   "metadata": {},
   "outputs": [],
   "source": []
  },
  {
   "cell_type": "code",
   "execution_count": null,
   "metadata": {},
   "outputs": [],
   "source": []
  },
  {
   "cell_type": "code",
   "execution_count": null,
   "metadata": {},
   "outputs": [],
   "source": []
  },
  {
   "cell_type": "code",
   "execution_count": null,
   "metadata": {},
   "outputs": [],
   "source": []
  },
  {
   "cell_type": "code",
   "execution_count": null,
   "metadata": {},
   "outputs": [],
   "source": []
  },
  {
   "cell_type": "markdown",
   "metadata": {},
   "source": [
    "## Spider - Encode Project for each cell line"
   ]
  },
  {
   "cell_type": "code",
   "execution_count": null,
   "metadata": {},
   "outputs": [],
   "source": [
    "from selenium import webdriver\n",
    "from time import sleep\n",
    "from selenium.webdriver.common.by import By\n",
    "from selenium.webdriver.safari.options import Options\n",
    "from selenium.webdriver.common.keys import Keys\n",
    "from selenium.webdriver.support import expected_conditions as EC\n",
    "from selenium.common.exceptions import TimeoutException\n",
    "from selenium.webdriver.support.ui import WebDriverWait\n",
    "import pandas as pd"
   ]
  },
  {
   "cell_type": "code",
   "execution_count": null,
   "metadata": {},
   "outputs": [],
   "source": [
    "#encode_hg19 = pd.read_csv('/Users/cmf/Downloads/TFNet-single-tf/data/encode/encode.report.select.cell.tfs.hg19.tsv',header=0, sep='\\t',skiprows=1)\n",
    "encode_hg19 = pd.read_csv('/Users/cmf/Downloads/TFNet-single-tf/data/encode/encode.report.select.cell.tfs.hg19.tsv',header=0, sep='\\t')\n",
    "encode_grch38 = pd.read_csv('/Users/cmf/Downloads/TFNet-single-tf/data/encode/encode.report.select.cell.tfs.grch38.tsv',header=0, sep='\\t')\n",
    "encode_hg19[['Accession', 'Target gene symbol', 'Biosample term name']]"
   ]
  },
  {
   "cell_type": "code",
   "execution_count": null,
   "metadata": {},
   "outputs": [],
   "source": [
    "\n",
    "base_url = 'https://www.encodeproject.org/experiments/'"
   ]
  },
  {
   "cell_type": "code",
   "execution_count": null,
   "metadata": {},
   "outputs": [],
   "source": [
    "safari_options = Options()\n",
    "safari_options.add_argument(\"headless\")"
   ]
  },
  {
   "cell_type": "code",
   "execution_count": null,
   "metadata": {},
   "outputs": [],
   "source": [
    "projects = []\n",
    "file_accessions= []\n",
    "file_types = []\n",
    "output_types = []\n",
    "isogenic_replicates = []\n",
    "genomes = []\n",
    "encode_pipes = []\n",
    "\n",
    "dr = webdriver.Safari(options=safari_options)\n",
    "dr.implicitly_wait(10)\n",
    "\n",
    "#for accession in encode_hg19['Accession']:\n",
    "for accession in encode_hg19['Accession']:\n",
    "    url = base_url + accession\n",
    "    dr.get(url)\n",
    "    sleep(3)\n",
    "    dr.find_element(By.XPATH,'//*[@id=\"content\"]/div/div[3]/div[2]/div[2]/div[1]/ul/li[3]/a').send_keys(Keys.ENTER)\n",
    "    try:\n",
    "        WebDriverWait(dr,10,0.2).until(EC.presence_of_element_located((By.XPATH,'//*[@id=\"tables\"]/div/div[2]/div[2]/div')))\n",
    "    except TimeoutException:\n",
    "        sleep(3)\n",
    "    encode_div = dr.find_element(By.XPATH, '//*[@id=\"tables\"]/div/div[2]/div[2]/div')\n",
    "    for index, table in enumerate(encode_div.find_elements(By.CLASS_NAME,'table__sortable')):\n",
    "        if index != 0:\n",
    "            if table.find_element(By.CLASS_NAME, 'title-main-content__analysis-title').text.find(\"hg19\") !=-1 :\n",
    "                encode_pipe = table.find_element(By.CLASS_NAME, 'title-main-content__analysis-title').text.split(\" \")[0]\n",
    "                tbody = table.find_element(By.TAG_NAME,'tbody')\n",
    "                for tr in tbody.find_elements(By.TAG_NAME,'tr'):\n",
    "                    tds = tr.find_elements(By.TAG_NAME,'td')\n",
    "                    if tds[2].text == 'bed narrowPeak' and tds[3].text == 'optimal IDR thresholded peaks':\n",
    "                        projects.append(accession)\n",
    "                        genomes.append(\"hg19\")\n",
    "                        href = tds[0].find_element(By.TAG_NAME,'a').get_attribute('href')\n",
    "                        file_accessions.append(href.split(\"/\")[4])\n",
    "                        file_types.append(tds[2].text)\n",
    "                        output_types.append(tds[3].text)\n",
    "                        isogenic_replicates.append(tds[4].text)\n",
    "                        encode_pipes.append(encode_pipe)\n",
    "                        print(accession)\n",
    "\n",
    "\n",
    "dr.quit()\n",
    "\n",
    "\n",
    "encode_hg19_spider = pd.DataFrame({\n",
    "    \"project\" : projects,\n",
    "    \"genome\" : genomes,\n",
    "    \"file_accession\" : file_accessions,\n",
    "    \"type\" : file_types,\n",
    "    \"output_type\" : output_types,\n",
    "    \"replicates\" : isogenic_replicates,\n",
    "    \"pipe\": encode_pipes\n",
    "})\n",
    "\n",
    "encode_hg19_spider.to_csv(\"data/encode/encode_hg19_spider.csv\",header=True, index=False)\n",
    "\n",
    "\n"
   ]
  },
  {
   "cell_type": "code",
   "execution_count": null,
   "metadata": {},
   "outputs": [],
   "source": [
    "projects = []\n",
    "file_accessions= []\n",
    "file_types = []\n",
    "output_types = []\n",
    "isogenic_replicates = []\n",
    "genomes = []\n",
    "encode_pipes = []\n",
    "\n",
    "dr = webdriver.Safari(options=safari_options)\n",
    "dr.implicitly_wait(10)\n",
    "\n",
    "#for accession in encode_grch38['Accession']:\n",
    "for accession in encode_grch38['Accession']:\n",
    "    url = base_url + accession\n",
    "    dr.get(url)\n",
    "    sleep(3)\n",
    "    dr.find_element(By.XPATH,'//*[@id=\"content\"]/div/div[3]/div[2]/div[2]/div[1]/ul/li[3]/a').send_keys(Keys.ENTER)\n",
    "    try:\n",
    "        WebDriverWait(dr,10,0.2).until(EC.presence_of_element_located((By.XPATH,'//*[@id=\"tables\"]/div/div[2]/div[2]/div')))\n",
    "    except TimeoutException:\n",
    "        sleep(3)\n",
    "    encode_div = dr.find_element(By.XPATH, '//*[@id=\"tables\"]/div/div[2]/div[2]/div')\n",
    "    for index, table in enumerate(encode_div.find_elements(By.CLASS_NAME,'table__sortable')):\n",
    "        if index != 0:\n",
    "            if table.find_element(By.CLASS_NAME, 'title-main-content__analysis-title').text.find(\"GRCh38\") !=-1 :\n",
    "                encode_pipe = table.find_element(By.CLASS_NAME, 'title-main-content__analysis-title').text.split(\" \")[0]\n",
    "                tbody = table.find_element(By.TAG_NAME,'tbody')\n",
    "                for tr in tbody.find_elements(By.TAG_NAME,'tr'):\n",
    "                    tds = tr.find_elements(By.TAG_NAME,'td')\n",
    "                    if tds[2].text == 'bed narrowPeak' and (tds[3].text == 'optimal IDR thresholded peaks' or tds[3].text == 'IDR thresholded peaks'):\n",
    "                        projects.append(accession)\n",
    "                        print(accession)\n",
    "                        genomes.append(\"GRCh38\")\n",
    "                        href = tds[0].find_element(By.TAG_NAME,'a').get_attribute('href')\n",
    "                        file_accessions.append(href.split(\"/\")[4])\n",
    "                        file_types.append(tds[2].text)\n",
    "                        output_types.append(tds[3].text)\n",
    "                        isogenic_replicates.append(tds[4].text)\n",
    "                        encode_pipes.append(encode_pipe)\n",
    "\n",
    "\n",
    "dr.quit()\n",
    "\n",
    "#encode_grch38_spider = pd.DataFrame({\n",
    "encode_grch38_spider = pd.DataFrame({\n",
    "    \"project\" : projects,\n",
    "    \"genome\" : genomes,\n",
    "    \"file_accession\" : file_accessions,\n",
    "    \"type\" : file_types,\n",
    "    \"output_type\" : output_types,\n",
    "    \"replicates\" : isogenic_replicates,\n",
    "    \"pipe\": encode_pipes\n",
    "})\n",
    "\n",
    "encode_grch38_spider.to_csv(\"data/encode/encode_grch38_spider.csv\",header=True, index=False)"
   ]
  },
  {
   "cell_type": "code",
   "execution_count": null,
   "metadata": {},
   "outputs": [],
   "source": []
  },
  {
   "cell_type": "markdown",
   "metadata": {},
   "source": [
    "### compare tfs collected from encode to all tf_pseudo"
   ]
  },
  {
   "cell_type": "code",
   "execution_count": null,
   "metadata": {},
   "outputs": [],
   "source": [
    "encode_hg19_tfs = list(set(encode_hg19['Target gene symbol']))\n",
    "encode_grch38_tfs = list(set(encode_grch38['Target gene symbol']))"
   ]
  },
  {
   "cell_type": "code",
   "execution_count": null,
   "metadata": {},
   "outputs": [],
   "source": [
    "pseudo_tfs = []\n",
    "with open('data/tf_pseudo/tf_pseudo.txt') as fp:\n",
    "    for line in fp:\n",
    "        if line.rstrip() != \"\":\n",
    "            pseudo_tfs.append(line.rstrip())"
   ]
  },
  {
   "cell_type": "code",
   "execution_count": null,
   "metadata": {},
   "outputs": [],
   "source": [
    "hg19_no_pseudo_tfs = []\n",
    "for i in encode_hg19_tfs:\n",
    "    if i in pseudo_tfs:\n",
    "        pass\n",
    "    else:\n",
    "        hg19_no_pseudo_tfs.append(i)\n",
    "\n",
    "grch38_no_pseudo_tfs = []\n",
    "for i in encode_grch38_tfs:\n",
    "    if i in pseudo_tfs:\n",
    "        pass\n",
    "    else:\n",
    "        grch38_no_pseudo_tfs.append(i)\n",
    "\n",
    "\n",
    "no_pseudo_tfs = set(hg19_no_pseudo_tfs + grch38_no_pseudo_tfs)"
   ]
  },
  {
   "cell_type": "code",
   "execution_count": null,
   "metadata": {},
   "outputs": [],
   "source": [
    "# for tfnet_5\n",
    "shared_tfs = [\"CEBPB\",\"CTCF\",\"EGR1\",\"JUND\",\"MAX\",\"MYC\",\"NRF1\",\"REST\",\"RFX5\",\"SIX5\",\"SP1\",\"SRF\",\"USF2\",\"YY1\",\"ZNF143\"]\n",
    "\n",
    "sum([ i in pseudo_tfs for i in shared_tfs])"
   ]
  },
  {
   "cell_type": "code",
   "execution_count": null,
   "metadata": {},
   "outputs": [],
   "source": []
  },
  {
   "cell_type": "markdown",
   "metadata": {},
   "source": [
    "### Down load bed file for each tf"
   ]
  },
  {
   "cell_type": "markdown",
   "metadata": {},
   "source": [
    "#### for hg19"
   ]
  },
  {
   "cell_type": "code",
   "execution_count": null,
   "metadata": {},
   "outputs": [
    {
     "ename": "",
     "evalue": "",
     "output_type": "error",
     "traceback": [
      "\u001b[1;31mRunning cells with 'selenium' requires the ipykernel package.\n",
      "\u001b[1;31mRun the following command to install 'ipykernel' into the Python environment. \n",
      "\u001b[1;31mCommand: 'conda install -n selenium ipykernel --update-deps --force-reinstall'"
     ]
    }
   ],
   "source": [
    "encode_hg19_spider = pd.read_csv(\"data/encode/encode_hg19_spider.csv\",header=0)"
   ]
  },
  {
   "cell_type": "code",
   "execution_count": null,
   "metadata": {},
   "outputs": [],
   "source": [
    "# find no duplicates for encode_hg19_spider\n",
    "len(encode_hg19_spider) - len(encode_hg19_spider.drop_duplicates('project'))"
   ]
  },
  {
   "cell_type": "code",
   "execution_count": null,
   "metadata": {},
   "outputs": [],
   "source": [
    "encode_hg19_spider.groupby('project').apply(lambda x : x.sort_values('replicates').head(1))"
   ]
  },
  {
   "cell_type": "code",
   "execution_count": null,
   "metadata": {},
   "outputs": [],
   "source": [
    "encode_hg19_spider[[ len(i) != 11 for i in encode_hg19_spider['file_accession']]]"
   ]
  },
  {
   "cell_type": "code",
   "execution_count": null,
   "metadata": {},
   "outputs": [],
   "source": [
    "encode_hg19_short = encode_hg19[['Accession', 'Target gene symbol', 'Biosample term name']]\n",
    "encode_hg19_short.columns = ['project', 'Target', 'Biosample']\n",
    "hg19 = pd.merge(encode_hg19_spider, encode_hg19_short, on='project', how='left')\n",
    "\n",
    "# drop duplicates\n",
    "hg19.drop_duplicates(['Target','Biosample']).to_csv(\"data/encode/encode_hg19_spider.download.csv\",header=True, index=False)"
   ]
  },
  {
   "cell_type": "markdown",
   "metadata": {},
   "source": [
    "#### for grch38"
   ]
  },
  {
   "cell_type": "code",
   "execution_count": null,
   "metadata": {},
   "outputs": [],
   "source": [
    "encode_grch38_spider = pd.read_csv(\"data/encode/encode_grch38_spider.csv\",header=0)"
   ]
  },
  {
   "cell_type": "code",
   "execution_count": null,
   "metadata": {},
   "outputs": [],
   "source": [
    "len(encode_grch38_spider) - len(encode_grch38_spider.drop_duplicates('project'))"
   ]
  },
  {
   "cell_type": "code",
   "execution_count": null,
   "metadata": {},
   "outputs": [],
   "source": [
    "encode_grch38_spider_encode3 = encode_grch38_spider[encode_grch38_spider['pipe'] == \"ENCODE3\"]\n",
    "encode_grch38_spider_encode4 = encode_grch38_spider[encode_grch38_spider['pipe'] == \"ENCODE4\"]\n",
    "\n",
    "print(len(set(encode_grch38_spider_encode3['project'])))\n",
    "print(len(set(encode_grch38_spider_encode4['project'])))"
   ]
  },
  {
   "cell_type": "markdown",
   "metadata": {},
   "source": [
    "### almost all project in encode3 pipeline are covered by encode4, choose encode4 to download bed file\n",
    "print(len(set(encode_grch38_spider_encode3['project'])) - sum(encode_grch38_spider_encode3['project'].isin(encode_grch38_spider_encode4['project'])) )"
   ]
  },
  {
   "cell_type": "code",
   "execution_count": null,
   "metadata": {},
   "outputs": [],
   "source": [
    "# no replicates present as nan in grch38\n",
    "# sum(encode_grch38_spider_encode4['replicates'].isna()) == 0\n",
    "# filter for replicates\n",
    "encode_grch38_spider_encode4_filter = encode_grch38_spider_encode4[[ j == 1 for j in [ i.find(\",\") for i in encode_grch38_spider_encode4['replicates']]]]\n",
    "\n",
    "# 1855\n",
    "len(set(encode_grch38_spider_encode4_filter['project']))\n",
    "# 1891\n",
    "len(encode_grch38_spider_encode4_filter)\n",
    "# show duplicates\n",
    "encode_grch38_spider_encode4_filter[encode_grch38_spider_encode4_filter.duplicated('project', keep=False).tolist()]"
   ]
  },
  {
   "cell_type": "code",
   "execution_count": null,
   "metadata": {},
   "outputs": [],
   "source": [
    "encode_grch38_spider_encode4_filter = encode_grch38_spider_encode4_filter.groupby('project').apply(lambda x : x.head(1)).reset_index(drop=True)"
   ]
  },
  {
   "cell_type": "code",
   "execution_count": null,
   "metadata": {},
   "outputs": [],
   "source": [
    "encode_grch38_short = encode_grch38[['Accession', 'Target gene symbol', 'Biosample term name']]\n",
    "encode_grch38_short.columns = ['project', 'Target', 'Biosample']\n",
    "grch38 = pd.merge(encode_grch38_spider_encode4_filter, encode_grch38_short, on='project', how='left')\n",
    "\n",
    "# drop duplicates\n",
    "\n",
    "grch38.drop_duplicates(['Target','Biosample']).to_csv(\"data/encode/encode_grch38_spider.download.csv\",header=True, index=False)"
   ]
  },
  {
   "cell_type": "markdown",
   "metadata": {},
   "source": [
    "### Make txt for download"
   ]
  },
  {
   "cell_type": "code",
   "execution_count": null,
   "metadata": {},
   "outputs": [],
   "source": [
    "# url format 'https://www.encodeproject.org/files/ENCFF795AWO/@@download/ENCFF795AWO.bed.gz'\n",
    "# wget all file\n",
    "base_url = 'https://www.encodeproject.org/files'\n",
    "file_format = '.bed.gz'\n",
    "extra = '@@download'\n",
    "\n",
    "with open('data/encode/encode_grch38.download', 'w') as fp:\n",
    "    #for i in encode_grch38_spider_encode4_filter['file_accession']:\n",
    "    for i in grch38.drop_duplicates(['Target','Biosample'])['file_accession']:\n",
    "        fp.write(f'{base_url}/{i}/{extra}/{i}{file_format}\\n')\n",
    "\n",
    "\n",
    "with open('data/encode/encode_hg19.download', 'w') as fp:\n",
    "    #for i in encode_hg19_spider['file_accession']:\n",
    "    for i in hg19.drop_duplicates(['Target','Biosample'])['file_accession']:\n",
    "        fp.write(f'{base_url}/{i}/{extra}/{i}{file_format}\\n')"
   ]
  },
  {
   "cell_type": "code",
   "execution_count": null,
   "metadata": {},
   "outputs": [],
   "source": []
  },
  {
   "cell_type": "code",
   "execution_count": null,
   "metadata": {},
   "outputs": [],
   "source": []
  },
  {
   "cell_type": "code",
   "execution_count": null,
   "metadata": {},
   "outputs": [],
   "source": []
  },
  {
   "cell_type": "code",
   "execution_count": null,
   "metadata": {},
   "outputs": [],
   "source": [
    "# if exclude WTC11 SK-N-SH and HEK293\n",
    "# if exclude SK-N-SH  # due to lack of dnase seq data"
   ]
  },
  {
   "cell_type": "code",
   "execution_count": null,
   "metadata": {},
   "outputs": [],
   "source": [
    "exclude_cells = [\"WTC11\", \"SK-N-SH\", \"HEK293\"]\n",
    "exclude_cell = [\"WTC11\"]\n",
    "exclude_cell = [\"HEK293\"]\n",
    "\n",
    "grch38 = pd.merge(encode_grch38_spider_encode4_filter, encode_grch38_short, on='project', how='left')\n",
    "hg19 = pd.merge(encode_hg19_spider, encode_hg19_short, on='project', how='left')\n",
    "\n",
    "print(len(set(grch38['Target'])) - len(set(grch38[~grch38['Biosample'].isin(exclude_cell)]['Target'])))\n",
    "print(len(set(hg19['Target'])) - len(set(hg19[~hg19['Biosample'].isin(exclude_cell)]['Target'])))"
   ]
  },
  {
   "cell_type": "code",
   "execution_count": null,
   "metadata": {},
   "outputs": [],
   "source": []
  }
 ],
 "metadata": {
  "kernelspec": {
   "display_name": "selenium",
   "language": "python",
   "name": "python3"
  },
  "language_info": {
   "name": "python",
   "version": "3.12.1"
  }
 },
 "nbformat": 4,
 "nbformat_minor": 2
}
