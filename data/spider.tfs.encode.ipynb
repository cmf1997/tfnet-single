{
 "cells": [
  {
   "cell_type": "markdown",
   "metadata": {},
   "source": [
    "## Presence of tfs family in different cell line"
   ]
  },
  {
   "cell_type": "code",
   "execution_count": null,
   "metadata": {},
   "outputs": [],
   "source": [
    "import matplotlib.pyplot as plt\n",
    "import pandas as pd\n",
    "from comut import comut\n",
    "import seaborn as sns\n",
    "from pathlib import Path"
   ]
  },
  {
   "cell_type": "code",
   "execution_count": null,
   "metadata": {},
   "outputs": [],
   "source": [
    "plt.rcParams['figure.dpi'] = 150"
   ]
  },
  {
   "cell_type": "code",
   "execution_count": null,
   "metadata": {},
   "outputs": [],
   "source": [
    "safari_options = Options()\n",
    "safari_options.add_argument(\"headless\")"
   ]
  },
  {
   "cell_type": "code",
   "execution_count": null,
   "metadata": {},
   "outputs": [],
   "source": [
    "baseurl = r'https://www.encodeproject.org/matrix/?type=Experiment&control_type%21=%2A&status=released&perturbed=false&assay_title=TF+ChIP-seq&target.investigated_as=transcription+factor&replicates.library.biosample.donor.organism.scientific_name=Homo+sapiens&biosample_ontology.classification=cell+line&biosample_ontology.term_name='"
   ]
  },
  {
   "cell_type": "code",
   "execution_count": null,
   "metadata": {},
   "outputs": [],
   "source": [
    "# select cell : HepG2, K562, HEK293, GM12878, MCF-7, WTC11, A549, SK-N-SH, HeLa-S3, H1"
   ]
  },
  {
   "cell_type": "code",
   "execution_count": null,
   "metadata": {},
   "outputs": [],
   "source": [
    "cell_lines = []\n",
    "tfs = []\n",
    "counts = []\n",
    "\n",
    "for cellline in ['HepG2', 'K562', 'HEK293', 'GM12878', 'MCF-7', 'WTC11', 'A549', 'SK-N-SH', 'HeLa-S3', 'H1']:\n",
    "    url = baseurl + cellline\n",
    "    dr = webdriver.Safari(options=safari_options)\n",
    "    dr.implicitly_wait(10)\n",
    "    dr.get(url)\n",
    "    dr.implicitly_wait(10)\n",
    "    tfs_div = dr.find_element(By.XPATH,'//*[@id=\"facet-group-Assay-Experiment\"]/div[4]/div/div[2]/ul/div[1]')\n",
    "    tf_div = tfs_div.find_elements(By.CLASS_NAME, 'facet-term')\n",
    "    for index, tf in enumerate(tf_div):\n",
    "        cell_lines.append(cellline)\n",
    "        tfs.append(tf.find_element(By.CLASS_NAME, 'facet-term__text').text)\n",
    "        counts.append(tf.find_element(By.CLASS_NAME, 'facet-term__count').text)\n",
    "    dr.quit()\n"
   ]
  },
  {
   "cell_type": "code",
   "execution_count": null,
   "metadata": {},
   "outputs": [],
   "source": [
    "tfs_data_encode = pd.DataFrame({\n",
    "    \"Cell\" : cell_lines,\n",
    "    \"TF\" : tfs,\n",
    "    \"Count\" : counts\n",
    "})"
   ]
  },
  {
   "cell_type": "code",
   "execution_count": null,
   "metadata": {},
   "outputs": [],
   "source": [
    "tfs_data_encode.groupby('Cell').size()"
   ]
  },
  {
   "cell_type": "code",
   "execution_count": null,
   "metadata": {},
   "outputs": [],
   "source": [
    "tfs_family = pd.read_csv('data/tfs_family.csv')\n",
    "tfs_family_dict = dict(tfs_family[['Name','Family']].values)\n",
    "\n",
    "# add Unkonw\n",
    "for i in tfs_data_encode['TF']:\n",
    "    if i in tfs_family_dict.keys():\n",
    "        pass\n",
    "    else:\n",
    "        tfs_family_dict[i] = \"Unknown\"\n",
    "\n"
   ]
  },
  {
   "cell_type": "code",
   "execution_count": null,
   "metadata": {},
   "outputs": [],
   "source": [
    "tfs_data_encode['Family'] = [ tfs_family_dict[i] for i in tfs_data_encode['TF'] ]"
   ]
  },
  {
   "cell_type": "code",
   "execution_count": null,
   "metadata": {},
   "outputs": [],
   "source": []
  },
  {
   "cell_type": "code",
   "execution_count": null,
   "metadata": {},
   "outputs": [],
   "source": [
    "sns.barplot(tfs_data_encode.groupby(['Cell', 'Family']).size().reset_index(name=\"Count\"), x = \"Family\", y=\"Count\", hue=\"Cell\")\n",
    "plt.tick_params(axis='x', labelrotation=45)\n",
    "plt.show()"
   ]
  },
  {
   "cell_type": "code",
   "execution_count": null,
   "metadata": {},
   "outputs": [],
   "source": [
    "tfs_data_encode.groupby(['Cell', 'Family']).size()"
   ]
  },
  {
   "cell_type": "code",
   "execution_count": null,
   "metadata": {},
   "outputs": [],
   "source": [
    "len(tfs_data_encode.drop_duplicates('Family')['Family'])"
   ]
  },
  {
   "cell_type": "code",
   "execution_count": null,
   "metadata": {},
   "outputs": [],
   "source": [
    "comut_data = tfs_data_encode.groupby(['Cell', 'Family']).size().reset_index(name=\"Count\")\n",
    "comut_data.columns = ['category', 'sample', 'value']\n",
    "#comut_data['value'] = [ 1/ (1 + np.exp(-i)) for i in comut_data['value'].tolist() ]\n",
    "comut_data['value'] = \"1\""
   ]
  },
  {
   "cell_type": "code",
   "execution_count": null,
   "metadata": {},
   "outputs": [],
   "source": [
    "family_comut = comut.CoMut()\n",
    "mut_mapping={\"1\":\"#4876FF\"}\n",
    "family_comut.add_categorical_data(comut_data, name='type',mapping=mut_mapping)\n",
    "#family_comut.add_continuous_data(comut_data, name='type')\n",
    "family_comut.plot_comut(figsize = (10,3),x_padding = 0.04, y_padding = 0.04)\n",
    "plt.savefig(\"results/encode.tf.family.pdf\")"
   ]
  },
  {
   "cell_type": "code",
   "execution_count": null,
   "metadata": {},
   "outputs": [],
   "source": []
  },
  {
   "cell_type": "code",
   "execution_count": null,
   "metadata": {},
   "outputs": [],
   "source": []
  },
  {
   "cell_type": "code",
   "execution_count": null,
   "metadata": {},
   "outputs": [],
   "source": []
  },
  {
   "cell_type": "code",
   "execution_count": null,
   "metadata": {},
   "outputs": [],
   "source": []
  },
  {
   "cell_type": "code",
   "execution_count": null,
   "metadata": {},
   "outputs": [],
   "source": []
  },
  {
   "cell_type": "markdown",
   "metadata": {},
   "source": [
    "## Spider - Encode Project for each cell line"
   ]
  },
  {
   "cell_type": "code",
   "execution_count": null,
   "metadata": {},
   "outputs": [],
   "source": [
    "from selenium import webdriver\n",
    "from time import sleep\n",
    "from selenium.webdriver.common.by import By\n",
    "from selenium.webdriver.safari.options import Options\n",
    "from selenium.webdriver.common.keys import Keys\n",
    "from selenium.webdriver.support import expected_conditions as EC\n",
    "from selenium.common.exceptions import TimeoutException\n",
    "from selenium.webdriver.support.ui import WebDriverWait\n",
    "import pandas as pd"
   ]
  },
  {
   "cell_type": "code",
   "execution_count": null,
   "metadata": {},
   "outputs": [],
   "source": [
    "#encode_hg19 = pd.read_csv('/Users/cmf/Downloads/TFNet-single-tf/data/encode/encode.report.select.cell.tfs.hg19.tsv',header=0, sep='\\t',skiprows=1)\n",
    "encode_hg19 = pd.read_csv('/Users/cmf/Downloads/TFNet-single-tf/data/encode/encode.report.select.cell.tfs.hg19.tsv',header=0, sep='\\t')\n",
    "encode_grch38 = pd.read_csv('/Users/cmf/Downloads/TFNet-single-tf/data/encode/encode.report.select.cell.tfs.grch38.tsv',header=0, sep='\\t')\n",
    "encode_hg19[['Accession', 'Target gene symbol', 'Biosample term name']]"
   ]
  },
  {
   "cell_type": "code",
   "execution_count": null,
   "metadata": {},
   "outputs": [],
   "source": [
    "\n",
    "base_url = 'https://www.encodeproject.org/experiments/'"
   ]
  },
  {
   "cell_type": "code",
   "execution_count": null,
   "metadata": {},
   "outputs": [],
   "source": [
    "safari_options = Options()\n",
    "safari_options.add_argument(\"headless\")"
   ]
  },
  {
   "cell_type": "code",
   "execution_count": null,
   "metadata": {},
   "outputs": [],
   "source": [
    "projects = []\n",
    "file_accessions= []\n",
    "file_types = []\n",
    "output_types = []\n",
    "isogenic_replicates = []\n",
    "genomes = []\n",
    "encode_pipes = []\n",
    "\n",
    "dr = webdriver.Safari(options=safari_options)\n",
    "dr.implicitly_wait(10)\n",
    "\n",
    "#for accession in encode_hg19['Accession']:\n",
    "for accession in encode_hg19['Accession']:\n",
    "    url = base_url + accession\n",
    "    dr.get(url)\n",
    "    sleep(3)\n",
    "    dr.find_element(By.XPATH,'//*[@id=\"content\"]/div/div[3]/div[2]/div[2]/div[1]/ul/li[3]/a').send_keys(Keys.ENTER)\n",
    "    try:\n",
    "        WebDriverWait(dr,10,0.2).until(EC.presence_of_element_located((By.XPATH,'//*[@id=\"tables\"]/div/div[2]/div[2]/div')))\n",
    "    except TimeoutException:\n",
    "        sleep(3)\n",
    "    encode_div = dr.find_element(By.XPATH, '//*[@id=\"tables\"]/div/div[2]/div[2]/div')\n",
    "    for index, table in enumerate(encode_div.find_elements(By.CLASS_NAME,'table__sortable')):\n",
    "        if index != 0:\n",
    "            if table.find_element(By.CLASS_NAME, 'title-main-content__analysis-title').text.find(\"hg19\") !=-1 :\n",
    "                encode_pipe = table.find_element(By.CLASS_NAME, 'title-main-content__analysis-title').text.split(\" \")[0]\n",
    "                tbody = table.find_element(By.TAG_NAME,'tbody')\n",
    "                for tr in tbody.find_elements(By.TAG_NAME,'tr'):\n",
    "                    tds = tr.find_elements(By.TAG_NAME,'td')\n",
    "                    if tds[2].text == 'bed narrowPeak' and tds[3].text == 'optimal IDR thresholded peaks':\n",
    "                        projects.append(accession)\n",
    "                        genomes.append(\"hg19\")\n",
    "                        href = tds[0].find_element(By.TAG_NAME,'a').get_attribute('href')\n",
    "                        file_accessions.append(href.split(\"/\")[4])\n",
    "                        file_types.append(tds[2].text)\n",
    "                        output_types.append(tds[3].text)\n",
    "                        isogenic_replicates.append(tds[4].text)\n",
    "                        encode_pipes.append(encode_pipe)\n",
    "                        print(accession)\n",
    "\n",
    "\n",
    "dr.quit()\n",
    "\n",
    "\n",
    "encode_hg19_spider = pd.DataFrame({\n",
    "    \"project\" : projects,\n",
    "    \"genome\" : genomes,\n",
    "    \"file_accession\" : file_accessions,\n",
    "    \"type\" : file_types,\n",
    "    \"output_type\" : output_types,\n",
    "    \"replicates\" : isogenic_replicates,\n",
    "    \"pipe\": encode_pipes\n",
    "})\n",
    "\n",
    "encode_hg19_spider.to_csv(\"data/encode/encode_hg19_spider.csv\",header=True, index=False)\n",
    "\n",
    "\n"
   ]
  },
  {
   "cell_type": "code",
   "execution_count": null,
   "metadata": {},
   "outputs": [],
   "source": [
    "projects = []\n",
    "file_accessions= []\n",
    "file_types = []\n",
    "output_types = []\n",
    "isogenic_replicates = []\n",
    "genomes = []\n",
    "encode_pipes = []\n",
    "\n",
    "dr = webdriver.Safari(options=safari_options)\n",
    "dr.implicitly_wait(10)\n",
    "\n",
    "#for accession in encode_grch38['Accession']:\n",
    "for accession in encode_grch38['Accession']:\n",
    "    url = base_url + accession\n",
    "    dr.get(url)\n",
    "    sleep(3)\n",
    "    dr.find_element(By.XPATH,'//*[@id=\"content\"]/div/div[3]/div[2]/div[2]/div[1]/ul/li[3]/a').send_keys(Keys.ENTER)\n",
    "    try:\n",
    "        WebDriverWait(dr,10,0.2).until(EC.presence_of_element_located((By.XPATH,'//*[@id=\"tables\"]/div/div[2]/div[2]/div')))\n",
    "    except TimeoutException:\n",
    "        sleep(3)\n",
    "    encode_div = dr.find_element(By.XPATH, '//*[@id=\"tables\"]/div/div[2]/div[2]/div')\n",
    "    for index, table in enumerate(encode_div.find_elements(By.CLASS_NAME,'table__sortable')):\n",
    "        if index != 0:\n",
    "            if table.find_element(By.CLASS_NAME, 'title-main-content__analysis-title').text.find(\"GRCh38\") !=-1 :\n",
    "                encode_pipe = table.find_element(By.CLASS_NAME, 'title-main-content__analysis-title').text.split(\" \")[0]\n",
    "                tbody = table.find_element(By.TAG_NAME,'tbody')\n",
    "                for tr in tbody.find_elements(By.TAG_NAME,'tr'):\n",
    "                    tds = tr.find_elements(By.TAG_NAME,'td')\n",
    "                    if tds[2].text == 'bed narrowPeak' and (tds[3].text == 'optimal IDR thresholded peaks' or tds[3].text == 'IDR thresholded peaks'):\n",
    "                        projects.append(accession)\n",
    "                        print(accession)\n",
    "                        genomes.append(\"GRCh38\")\n",
    "                        href = tds[0].find_element(By.TAG_NAME,'a').get_attribute('href')\n",
    "                        file_accessions.append(href.split(\"/\")[4])\n",
    "                        file_types.append(tds[2].text)\n",
    "                        output_types.append(tds[3].text)\n",
    "                        isogenic_replicates.append(tds[4].text)\n",
    "                        encode_pipes.append(encode_pipe)\n",
    "\n",
    "\n",
    "dr.quit()\n",
    "\n",
    "#encode_grch38_spider = pd.DataFrame({\n",
    "encode_grch38_spider = pd.DataFrame({\n",
    "    \"project\" : projects,\n",
    "    \"genome\" : genomes,\n",
    "    \"file_accession\" : file_accessions,\n",
    "    \"type\" : file_types,\n",
    "    \"output_type\" : output_types,\n",
    "    \"replicates\" : isogenic_replicates,\n",
    "    \"pipe\": encode_pipes\n",
    "})\n",
    "\n",
    "encode_grch38_spider.to_csv(\"data/encode/encode_grch38_spider.csv\",header=True, index=False)"
   ]
  },
  {
   "cell_type": "code",
   "execution_count": null,
   "metadata": {},
   "outputs": [],
   "source": []
  },
  {
   "cell_type": "markdown",
   "metadata": {},
   "source": [
    "### compare tfs collected from encode to all tf_pseudo"
   ]
  },
  {
   "cell_type": "code",
   "execution_count": null,
   "metadata": {},
   "outputs": [],
   "source": [
    "encode_hg19_spider = pd.read_csv(\"data/encode/encode_hg19_spider.csv\",header=0)\n",
    "encode_grch38_spider = pd.read_csv(\"data/encode/encode_grch38_spider.csv\",header=0)"
   ]
  },
  {
   "cell_type": "code",
   "execution_count": null,
   "metadata": {},
   "outputs": [],
   "source": [
    "encode_hg19_tfs = list(set(encode_hg19['Target gene symbol']))\n",
    "encode_grch38_tfs = list(set(encode_grch38['Target gene symbol']))\n",
    "\n"
   ]
  },
  {
   "cell_type": "code",
   "execution_count": null,
   "metadata": {},
   "outputs": [],
   "source": [
    "pseudo_tfs = []\n",
    "with open('data/tf_pseudo/tf_pseudo.txt') as fp:\n",
    "    for line in fp:\n",
    "        if line.rstrip() != \"\":\n",
    "            pseudo_tfs.append(line.rstrip())"
   ]
  },
  {
   "cell_type": "code",
   "execution_count": null,
   "metadata": {},
   "outputs": [],
   "source": [
    "hg19_no_pseudo_tfs = []\n",
    "for i in encode_hg19_tfs:\n",
    "    if i in pseudo_tfs:\n",
    "        pass\n",
    "    else:\n",
    "        hg19_no_pseudo_tfs.append(i)\n",
    "\n",
    "grch38_no_pseudo_tfs = []\n",
    "for i in encode_grch38_tfs:\n",
    "    if i in pseudo_tfs:\n",
    "        pass\n",
    "    else:\n",
    "        grch38_no_pseudo_tfs.append(i)\n",
    "\n",
    "\n",
    "no_pseudo_tfs = set(hg19_no_pseudo_tfs + grch38_no_pseudo_tfs)"
   ]
  },
  {
   "cell_type": "code",
   "execution_count": null,
   "metadata": {},
   "outputs": [],
   "source": [
    "# for tfnet_5\n",
    "shared_tfs = [\"CEBPB\",\"CTCF\",\"EGR1\",\"JUND\",\"MAX\",\"MYC\",\"NRF1\",\"REST\",\"RFX5\",\"SIX5\",\"SP1\",\"SRF\",\"USF2\",\"YY1\",\"ZNF143\"]\n",
    "\n",
    "sum([ i in pseudo_tfs for i in shared_tfs])"
   ]
  },
  {
   "cell_type": "code",
   "execution_count": null,
   "metadata": {},
   "outputs": [],
   "source": []
  },
  {
   "cell_type": "markdown",
   "metadata": {},
   "source": [
    "### Down load bed file for each tf"
   ]
  },
  {
   "cell_type": "markdown",
   "metadata": {},
   "source": [
    "#### for hg19"
   ]
  },
  {
   "cell_type": "code",
   "execution_count": null,
   "metadata": {},
   "outputs": [
    {
     "ename": "",
     "evalue": "",
     "output_type": "error",
     "traceback": [
      "\u001b[1;31mRunning cells with 'selenium' requires the ipykernel package.\n",
      "\u001b[1;31mRun the following command to install 'ipykernel' into the Python environment. \n",
      "\u001b[1;31mCommand: 'conda install -n selenium ipykernel --update-deps --force-reinstall'"
     ]
    }
   ],
   "source": [
    "encode_hg19_spider = pd.read_csv(\"data/encode/encode_hg19_spider.csv\",header=0)"
   ]
  },
  {
   "cell_type": "code",
   "execution_count": null,
   "metadata": {},
   "outputs": [],
   "source": [
    "# find no duplicates for encode_hg19_spider\n",
    "len(encode_hg19_spider) - len(encode_hg19_spider.drop_duplicates('project'))"
   ]
  },
  {
   "cell_type": "code",
   "execution_count": null,
   "metadata": {},
   "outputs": [],
   "source": [
    "encode_hg19_spider.groupby('project').apply(lambda x : x.sort_values('replicates').head(1))"
   ]
  },
  {
   "cell_type": "code",
   "execution_count": null,
   "metadata": {},
   "outputs": [],
   "source": [
    "encode_hg19_spider[[ len(i) != 11 for i in encode_hg19_spider['file_accession']]]"
   ]
  },
  {
   "cell_type": "code",
   "execution_count": null,
   "metadata": {},
   "outputs": [],
   "source": [
    "encode_hg19_short = encode_hg19[['Accession', 'Target gene symbol', 'Biosample term name']]\n",
    "encode_hg19_short.columns = ['project', 'Target', 'Biosample']\n",
    "hg19 = pd.merge(encode_hg19_spider, encode_hg19_short, on='project', how='left')\n",
    "\n",
    "# drop duplicates\n",
    "hg19.drop_duplicates(['Target','Biosample']).to_csv(\"data/encode/encode_hg19_spider.download.csv\",header=True, index=False)"
   ]
  },
  {
   "cell_type": "markdown",
   "metadata": {},
   "source": [
    "#### for grch38"
   ]
  },
  {
   "cell_type": "code",
   "execution_count": null,
   "metadata": {},
   "outputs": [],
   "source": [
    "encode_grch38_spider = pd.read_csv(\"data/encode/encode_grch38_spider.csv\",header=0)"
   ]
  },
  {
   "cell_type": "code",
   "execution_count": null,
   "metadata": {},
   "outputs": [],
   "source": [
    "len(encode_grch38_spider) - len(encode_grch38_spider.drop_duplicates('project'))"
   ]
  },
  {
   "cell_type": "code",
   "execution_count": null,
   "metadata": {},
   "outputs": [],
   "source": [
    "encode_grch38_spider_encode3 = encode_grch38_spider[encode_grch38_spider['pipe'] == \"ENCODE3\"]\n",
    "encode_grch38_spider_encode4 = encode_grch38_spider[encode_grch38_spider['pipe'] == \"ENCODE4\"]\n",
    "\n",
    "print(len(set(encode_grch38_spider_encode3['project'])))\n",
    "print(len(set(encode_grch38_spider_encode4['project'])))"
   ]
  },
  {
   "cell_type": "markdown",
   "metadata": {},
   "source": [
    "### almost all project in encode3 pipeline are covered by encode4, choose encode4 to download bed file\n",
    "print(len(set(encode_grch38_spider_encode3['project'])) - sum(encode_grch38_spider_encode3['project'].isin(encode_grch38_spider_encode4['project'])) )"
   ]
  },
  {
   "cell_type": "code",
   "execution_count": null,
   "metadata": {},
   "outputs": [],
   "source": [
    "# no replicates present as nan in grch38\n",
    "# sum(encode_grch38_spider_encode4['replicates'].isna()) == 0\n",
    "# filter for replicates\n",
    "encode_grch38_spider_encode4_filter = encode_grch38_spider_encode4[[ j == 1 for j in [ i.find(\",\") for i in encode_grch38_spider_encode4['replicates']]]]\n",
    "\n",
    "# 1855\n",
    "len(set(encode_grch38_spider_encode4_filter['project']))\n",
    "# 1891\n",
    "len(encode_grch38_spider_encode4_filter)\n",
    "# show duplicates\n",
    "encode_grch38_spider_encode4_filter[encode_grch38_spider_encode4_filter.duplicated('project', keep=False).tolist()]"
   ]
  },
  {
   "cell_type": "code",
   "execution_count": null,
   "metadata": {},
   "outputs": [],
   "source": [
    "encode_grch38_spider_encode4_filter = encode_grch38_spider_encode4_filter.groupby('project').apply(lambda x : x.head(1)).reset_index(drop=True)"
   ]
  },
  {
   "cell_type": "code",
   "execution_count": null,
   "metadata": {},
   "outputs": [],
   "source": [
    "encode_grch38_short = encode_grch38[['Accession', 'Target gene symbol', 'Biosample term name']]\n",
    "encode_grch38_short.columns = ['project', 'Target', 'Biosample']\n",
    "grch38 = pd.merge(encode_grch38_spider_encode4_filter, encode_grch38_short, on='project', how='left')\n",
    "\n",
    "# drop duplicates\n",
    "\n",
    "#grch38.drop_duplicates(['Target','Biosample']).to_csv(\"data/encode/encode_grch38_spider.download.csv\",header=True, index=False)\n",
    "grch38 = grch38.drop_duplicates(['Target','Biosample'])"
   ]
  },
  {
   "cell_type": "markdown",
   "metadata": {},
   "source": [
    "### most of the unmatch target tfs were non-Homo_sapiens or unknow family or can not find in cisbp database"
   ]
  },
  {
   "cell_type": "code",
   "execution_count": null,
   "metadata": {},
   "outputs": [],
   "source": [
    "filter_grch38_no_pseudo_tfs = []\n",
    "for i in set(grch38[grch38['Biosample'] != 'HEK293']['Target']):\n",
    "    if i in pseudo_tfs:\n",
    "        pass\n",
    "    else:\n",
    "        filter_grch38_no_pseudo_tfs.append(i)\n",
    "\n",
    "\n",
    "print(len(set(filter_grch38_no_pseudo_tfs)))\n",
    "### most of the unmatch target tfs were non-Homo_sapiens or unknow family or can not find in cisbp database"
   ]
  },
  {
   "cell_type": "markdown",
   "metadata": {},
   "source": [
    "### Make txt for download"
   ]
  },
  {
   "cell_type": "code",
   "execution_count": null,
   "metadata": {},
   "outputs": [],
   "source": [
    "# url format 'https://www.encodeproject.org/files/ENCFF795AWO/@@download/ENCFF795AWO.bed.gz'\n",
    "# wget all file\n",
    "base_url = 'https://www.encodeproject.org/files'\n",
    "file_format = '.bed.gz'\n",
    "extra = '@@download'\n",
    "\n",
    "with open('data/encode/encode_grch38.download', 'w') as fp:\n",
    "    #for i in encode_grch38_spider_encode4_filter['file_accession']:\n",
    "    for i in grch38['file_accession']:\n",
    "        fp.write(f'{base_url}/{i}/{extra}/{i}{file_format}\\n')\n",
    "\n",
    "\n",
    "with open('data/encode/encode_hg19.download', 'w') as fp:\n",
    "    #for i in encode_hg19_spider['file_accession']:\n",
    "    for i in hg19['file_accession']:\n",
    "        fp.write(f'{base_url}/{i}/{extra}/{i}{file_format}\\n')"
   ]
  },
  {
   "cell_type": "code",
   "execution_count": null,
   "metadata": {},
   "outputs": [],
   "source": []
  },
  {
   "cell_type": "markdown",
   "metadata": {},
   "source": [
    "### exclude HEK293 due to lack of DNAse data"
   ]
  },
  {
   "cell_type": "code",
   "execution_count": null,
   "metadata": {},
   "outputs": [],
   "source": [
    "# if exclude WTC11 SK-N-SH and HEK293\n",
    "# if exclude SK-N-SH  # due to lack of dnase seq data"
   ]
  },
  {
   "cell_type": "code",
   "execution_count": null,
   "metadata": {},
   "outputs": [],
   "source": [
    "#exclude_cells = [\"WTC11\", \"SK-N-SH\", \"HEK293\"]\n",
    "#exclude_cell = [\"WTC11\"]\n",
    "exclude_cell = [\"HEK293\"]\n",
    "\n",
    "grch38 = pd.merge(encode_grch38_spider_encode4_filter, encode_grch38_short, on='project', how='left')\n",
    "hg19 = pd.merge(encode_hg19_spider, encode_hg19_short, on='project', how='left')\n",
    "\n",
    "nohek293_grch38 = grch38[~grch38['Biosample'].isin(exclude_cell)]\n",
    "\n",
    "print(len(set(grch38['Target'])) - len(set(grch38[~grch38['Biosample'].isin(exclude_cell)]['Target'])))\n",
    "print(len(set(hg19['Target'])) - len(set(hg19[~hg19['Biosample'].isin(exclude_cell)]['Target'])))"
   ]
  },
  {
   "cell_type": "code",
   "execution_count": null,
   "metadata": {},
   "outputs": [],
   "source": []
  },
  {
   "cell_type": "code",
   "execution_count": null,
   "metadata": {},
   "outputs": [],
   "source": []
  },
  {
   "cell_type": "markdown",
   "metadata": {},
   "source": [
    "### plot the presence of all tfs in encode and pseudos"
   ]
  },
  {
   "cell_type": "code",
   "execution_count": null,
   "metadata": {},
   "outputs": [],
   "source": [
    "directory_path = Path(\"data/tf_pseudo/\")\n",
    "pseudo_tfs = []\n",
    "tf_family = []\n",
    "for file_path in list(directory_path.glob(\"*.fa\")):\n",
    "    print(file_path)\n",
    "    with open(file_path,'r') as fp:\n",
    "        for line in fp:\n",
    "            if line.startswith(\">\"):\n",
    "                pseudo_tfs.append(line.lstrip(\">\").rstrip())\n",
    "                tf_family.append(Path(file_path).stem)\n",
    "\n",
    "tfs_family = pd.DataFrame({\"Target\": pseudo_tfs,\n",
    "                           \"family\":tf_family\n",
    "                           })\n",
    "\n",
    "\n",
    "#tfs_family['chip'] = tfs_family['tf'].isin(set(grch38['Target'])).astype(int)\n",
    "tfs_family['chip'] = tfs_family['Target'].isin(set(nohek293_grch38['Target'])).astype(int)\n",
    "\n",
    "\n",
    "#grch38 = pd.merge(nohek293_grch38, tfs_family, on='Target', how='left')"
   ]
  },
  {
   "cell_type": "code",
   "execution_count": null,
   "metadata": {},
   "outputs": [],
   "source": [
    "# if select specific superfamily, check the celltype diversity\n",
    "nohek293_grch38[nohek293_grch38['Target'].isin(set(tfs_family[(tfs_family['chip']==1) & (tfs_family['family'] == 'THAP&SAND&GTF2I&BrkDBD')]['Target']))]"
   ]
  },
  {
   "cell_type": "code",
   "execution_count": null,
   "metadata": {},
   "outputs": [],
   "source": [
    "#select bZIP_1\n",
    "nohek293_grch38[nohek293_grch38['Target'].isin(set(tfs_family[(tfs_family['chip']==1) & (tfs_family['family'] == 'bZIP_1')]['Target']))]\n"
   ]
  },
  {
   "cell_type": "code",
   "execution_count": null,
   "metadata": {},
   "outputs": [],
   "source": []
  },
  {
   "cell_type": "markdown",
   "metadata": {},
   "source": [
    "### All tfs for training (with matched pseudosequences)\n",
    "#### have to remove some chip-data due to lack of matched pseudosequences"
   ]
  },
  {
   "cell_type": "code",
   "execution_count": null,
   "metadata": {},
   "outputs": [],
   "source": [
    "target_family = dict(zip(tfs_family['Target'],tfs_family['family']))"
   ]
  },
  {
   "cell_type": "code",
   "execution_count": null,
   "metadata": {},
   "outputs": [],
   "source": [
    "tfs_family.columns =  ['sample','category','value']\n",
    "all_tfs_training = list(tfs_family['sample'][tfs_family['value'] == 1])\n",
    "all_tfs_training.sort()\n",
    "\n",
    "\n",
    "with open('data/encode/all_tfs.family.training', 'w') as fp:\n",
    "    for i in all_tfs_training:\n",
    "        fp.write(i+\"\\t\"+ target_family[i] + \"\\n\")\n",
    "\n",
    "\n",
    "\n",
    "with open('data/encode/all_tfs.training', 'w') as fp:\n",
    "    for i in all_tfs_training:\n",
    "        fp.write(i+\"\\n\")\n",
    "\n"
   ]
  },
  {
   "cell_type": "markdown",
   "metadata": {},
   "source": [
    "### Plot"
   ]
  },
  {
   "cell_type": "code",
   "execution_count": null,
   "metadata": {},
   "outputs": [],
   "source": [
    "pseudo_family_comut = comut.CoMut()\n",
    "mut_mapping={1:\"red\", 0: \"grey\"}\n",
    "#pseudo_family_comut.add_categorical_data(tfs_family[tfs_family['category']== 'THAP&SAND&GTF2I&BrkDBD'], name='value',mapping=mut_mapping)\n",
    "pseudo_family_comut.add_categorical_data(tfs_family, name='value',mapping=mut_mapping)\n",
    "\n",
    "#family_comut.add_continuous_data(comut_data, name='type')\n",
    "pseudo_family_comut.plot_comut(figsize = (30,9),x_padding = 0.04, y_padding = 0.04)\n",
    "plt.xticks([])  \n",
    "plt.savefig(\"results/pseudo_family.nohek293.pdf\")"
   ]
  },
  {
   "cell_type": "markdown",
   "metadata": {},
   "source": [
    "### Plot cell type / tfs datatable"
   ]
  },
  {
   "cell_type": "code",
   "execution_count": null,
   "metadata": {},
   "outputs": [],
   "source": [
    "download_table = pd.read_csv(\"./data/encode/encode_grch38_spider.download.csv\", header=0)\n",
    "download_table = download_table[['Target', 'Biosample']]\n",
    "download_table = download_table[~download_table['Biosample'].isin([\"HEK293\"])]\n",
    "download_table['value'] = 1\n",
    "download_table.columns =  ['sample','category','value']\n",
    "download_table = download_table.sort_values([\"category\",\"sample\"])\n",
    "\n",
    "#download_table.pivot_table(index=\"Target\", columns=\"Biosample\", values=\"value\")"
   ]
  },
  {
   "cell_type": "code",
   "execution_count": null,
   "metadata": {},
   "outputs": [],
   "source": [
    "tfs_family = pd.read_csv('data/tfs_family.csv')\n",
    "tfs_family_dict = dict(tfs_family[['Name','Family']].values)\n",
    "tfs_family_dict.update({key :\"Unknown\" for key in set(download_table['sample'][~download_table['sample'].isin(tfs_family['Name'])].tolist())})\n",
    "\n",
    "download_table['family'] = [tfs_family_dict[i] for i in download_table['sample']]"
   ]
  },
  {
   "cell_type": "code",
   "execution_count": null,
   "metadata": {},
   "outputs": [],
   "source": [
    "plt.rcParams.update({'font.size': 5})\n",
    "mut_mapping={1:\"#4169E1\"}\n",
    "download_table_comut = comut.CoMut()\n",
    "download_table_comut.add_categorical_data(download_table, name='value', mapping=mut_mapping)\n",
    "download_table_comut.plot_comut(figsize = (45,10),x_padding = 0.04, y_padding = 0.04)\n",
    "#plt.xticks([])  \n",
    "plt.savefig(\"results/download_celltype_tfs.pdf\")"
   ]
  },
  {
   "cell_type": "code",
   "execution_count": null,
   "metadata": {},
   "outputs": [],
   "source": [
    "download_table = pd.merge(download_table,download_table['sample'].value_counts().to_frame().reset_index(),how=\"left\", on=\"sample\")\n",
    "download_table['group'] = [\"1\" if i == 1 else \"2\" if i == 2 else \">3\" for i in download_table['count']]\n",
    "download_table[['category','group']].groupby(\"category\").value_counts(normalize=True).to_frame().reset_index()"
   ]
  },
  {
   "cell_type": "code",
   "execution_count": null,
   "metadata": {},
   "outputs": [],
   "source": [
    "sns.barplot(download_table[['category','group']].groupby(\"category\").value_counts(normalize=True).to_frame().reset_index(), x=\"category\", y=\"proportion\", hue=\"group\", dodge=False)\n",
    "plt.show()"
   ]
  },
  {
   "cell_type": "code",
   "execution_count": null,
   "metadata": {},
   "outputs": [],
   "source": []
  },
  {
   "cell_type": "code",
   "execution_count": null,
   "metadata": {},
   "outputs": [],
   "source": [
    "'''\n",
    "custom_params = {\"axes.spines.right\": False, \"axes.spines.top\": False}\n",
    "sns.set_theme(style=\"ticks\", rc=custom_params)\n",
    "plt.rcParams.update({'font.size': 10})\n",
    "plt.figure(figsize=(8,8))\n",
    "ax = sns.histplot(\n",
    "    data=download_table,\n",
    "    x=\"category\", hue=\"group\",\n",
    "    multiple=\"fill\", stat=\"proportion\",\n",
    "    discrete=True, shrink=.8\n",
    ")\n",
    "plt.xlabel(\"\")\n",
    "sns.move_legend(ax, \"upper left\", bbox_to_anchor=(1, 1))\n",
    "plt.xticks(rotation=45)\n",
    "plt.savefig(\"results/distribute.normalize.2.pdf\")\n",
    "\n",
    "plt.figure(figsize=(8,8))\n",
    "ax = sns.histplot(\n",
    "    data=download_table,\n",
    "    x=\"category\", hue=\"group\",\n",
    "    multiple=\"stack\", stat=\"count\",\n",
    "    discrete=True, shrink=.8\n",
    ")\n",
    "plt.xlabel(\"\")\n",
    "sns.move_legend(ax, \"upper left\", bbox_to_anchor=(1, 1))\n",
    "plt.xticks(rotation=45)\n",
    "plt.savefig(\"results/distribute.2.pdf\")\n",
    "'''"
   ]
  },
  {
   "cell_type": "code",
   "execution_count": null,
   "metadata": {},
   "outputs": [],
   "source": [
    "fig, axs = plt.subplots(ncols=2)\n",
    "plt.rcParams.update({'figsize': (16,8)})\n",
    "custom_params = {\"axes.spines.right\": False, \"axes.spines.top\": False}\n",
    "sns.set_theme(style=\"ticks\", rc=custom_params)\n",
    "\n",
    "sns.histplot(\n",
    "    data=download_table.sort_values(['category','group']),\n",
    "    x=\"category\", hue=\"group\",\n",
    "    multiple=\"fill\", stat=\"proportion\",\n",
    "    discrete=True, shrink=.8, ax=axs[0], legend=False\n",
    ")\n",
    "axs[0].set(xlabel='')\n",
    "axs[0].set_xticklabels(axs[0].get_xticklabels(), rotation=45)\n",
    "\n",
    "sns.histplot(\n",
    "    data=download_table.sort_values(['category','group']),\n",
    "    x=\"category\", hue=\"group\",\n",
    "    multiple=\"stack\", stat=\"count\",\n",
    "    discrete=True, shrink=.8, ax=axs[1]\n",
    ")\n",
    "axs[1].set(xlabel='')\n",
    "sns.move_legend(axs[1], \"upper left\", bbox_to_anchor=(0.9, 1), title=None, frameon=False)\n",
    "axs[1].set_xticklabels(axs[1].get_xticklabels(), rotation=45)\n",
    "\n",
    "fig.savefig(\"results/distribute.pdf\")"
   ]
  },
  {
   "cell_type": "code",
   "execution_count": null,
   "metadata": {},
   "outputs": [],
   "source": [
    "enable_labels = set(download_table[['category', 'family']].groupby('category').apply(lambda x:x.value_counts(\"family\").head(5)).to_frame().reset_index()['family'])\n",
    "download_table['enable_lable'] = [i if i in enable_labels else \"other\"  for i in download_table['family']]"
   ]
  },
  {
   "cell_type": "code",
   "execution_count": null,
   "metadata": {},
   "outputs": [],
   "source": [
    "'''\n",
    "custom_params = {\"axes.spines.right\": False, \"axes.spines.top\": False}\n",
    "sns.set_theme(style=\"ticks\", rc=custom_params)\n",
    "plt.rcParams.update({'font.size': 10})\n",
    "plt.figure(figsize=(8,8))\n",
    "ax = sns.histplot(\n",
    "    data=download_table.sort_values(['category','enable_lable']),\n",
    "    x=\"category\", hue=\"enable_lable\",\n",
    "    multiple=\"fill\", stat=\"proportion\",\n",
    "    discrete=True, shrink=.8\n",
    ")\n",
    "plt.xlabel(\"\")\n",
    "plt.xticks(rotation=45)\n",
    "sns.move_legend(ax, \"upper left\", bbox_to_anchor=(1, 1))\n",
    "plt.savefig(\"results/distribute.family.normalize.pdf\")\n",
    "#plt.show()\n",
    "\n",
    "sns.histplot(\n",
    "    data=download_table.sort_values(['category','enable_lable']),\n",
    "    x=\"category\", hue=\"enable_lable\",\n",
    "    multiple=\"stack\", stat=\"count\",\n",
    "    discrete=True, shrink=.8\n",
    ")\n",
    "plt.xlabel(\"\")\n",
    "plt.xticks(rotation=45)\n",
    "sns.move_legend(ax, \"upper left\", bbox_to_anchor=(1, 1))\n",
    "plt.savefig(\"results/distribute.family.pdf\")\n",
    "'''"
   ]
  },
  {
   "cell_type": "code",
   "execution_count": null,
   "metadata": {},
   "outputs": [],
   "source": [
    "fig, axs = plt.subplots(ncols=2)\n",
    "plt.rcParams.update({'figsize': (16,8)})\n",
    "custom_params = {\"axes.spines.right\": False, \"axes.spines.top\": False}\n",
    "sns.set_theme(style=\"ticks\", rc=custom_params)\n",
    "\n",
    "sns.histplot(\n",
    "    data=download_table.sort_values(['category','enable_lable']),\n",
    "    x=\"category\", hue=\"enable_lable\",\n",
    "    multiple=\"fill\", stat=\"proportion\",\n",
    "    discrete=True, shrink=.8, ax=axs[0], legend=False\n",
    ")\n",
    "axs[0].set(xlabel='')\n",
    "axs[0].set_xticklabels(axs[0].get_xticklabels(), rotation=45)\n",
    "\n",
    "sns.histplot(\n",
    "    data=download_table.sort_values(['category','enable_lable']),\n",
    "    x=\"category\", hue=\"enable_lable\",\n",
    "    multiple=\"stack\", stat=\"count\",\n",
    "    discrete=True, shrink=.8, ax=axs[1]\n",
    ")\n",
    "axs[1].set(xlabel='')\n",
    "sns.move_legend(axs[1], \"upper left\", bbox_to_anchor=(0.9, 1), title=None, frameon=False)\n",
    "axs[1].set_xticklabels(axs[1].get_xticklabels(), rotation=45)\n",
    "\n",
    "fig.savefig(\"results/distribute.family.pdf\")"
   ]
  },
  {
   "cell_type": "code",
   "execution_count": null,
   "metadata": {},
   "outputs": [],
   "source": [
    "download_table2 = download_table.pivot_table(index=\"sample\", columns=\"category\", values=\"value\")\n",
    "download_table2[download_table2.isna()] = 0"
   ]
  },
  {
   "cell_type": "code",
   "execution_count": null,
   "metadata": {},
   "outputs": [],
   "source": []
  },
  {
   "cell_type": "code",
   "execution_count": null,
   "metadata": {},
   "outputs": [],
   "source": [
    "#plt.figure(figsize=(6,150))\n",
    "sns.heatmap(download_table2,cmap=[\"white\", \"blue\"])\n",
    "plt.show()"
   ]
  },
  {
   "cell_type": "markdown",
   "metadata": {},
   "source": [
    "### select overlap tfs for valid cross celltype performance under the circumcetance of similarity"
   ]
  },
  {
   "cell_type": "code",
   "execution_count": null,
   "metadata": {},
   "outputs": [],
   "source": [
    "download_table2 = download_table.pivot_table(index=\"sample\", columns=\"category\", values=\"value\")\n",
    "download_table2[download_table2.isna()] = 0"
   ]
  },
  {
   "cell_type": "code",
   "execution_count": null,
   "metadata": {},
   "outputs": [],
   "source": [
    "download_table2[download_table2['H1'] + download_table2['SK-N-SH'] + download_table2['WTC11'] == 3]"
   ]
  },
  {
   "cell_type": "code",
   "execution_count": null,
   "metadata": {},
   "outputs": [],
   "source": [
    "download_table2[download_table2.sum(axis=1) == 9]\n",
    "\n",
    "SK-N-SH: 51 / CTCF 6 / MAX 19\n",
    "WTC11: 82 / CTCF 12 / MAX 32\n",
    "H1: 38 / CTCF 7 / MAX 16\n",
    "MCF-7: 80 / CTCF 7 / MAX 33\n",
    "GM12878: 109 / CTCF 17 / MAX 43"
   ]
  }
 ],
 "metadata": {
  "kernelspec": {
   "display_name": "selenium",
   "language": "python",
   "name": "python3"
  },
  "language_info": {
   "name": "python",
   "version": "3.12.1"
  }
 },
 "nbformat": 4,
 "nbformat_minor": 2
}
