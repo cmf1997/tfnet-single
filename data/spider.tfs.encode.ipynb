{
 "cells": [
  {
   "cell_type": "code",
   "execution_count": null,
   "metadata": {},
   "outputs": [
    {
     "ename": "",
     "evalue": "",
     "output_type": "error",
     "traceback": [
      "\u001b[1;31mRunning cells with 'selenium' requires the ipykernel package.\n",
      "\u001b[1;31mRun the following command to install 'ipykernel' into the Python environment. \n",
      "\u001b[1;31mCommand: 'conda install -n selenium ipykernel --update-deps --force-reinstall'"
     ]
    }
   ],
   "source": [
    "from selenium import webdriver\n",
    "from time import sleep\n",
    "from selenium.webdriver.common.by import By\n",
    "from selenium.webdriver.safari.options import Options\n",
    "import matplotlib.pyplot as plt\n",
    "import pandas as pd\n",
    "import matplotlib.pyplot as plt\n",
    "from comut import comut\n",
    "import seaborn as sns\n",
    "import numpy as np"
   ]
  },
  {
   "cell_type": "code",
   "execution_count": null,
   "metadata": {},
   "outputs": [],
   "source": [
    "plt.rcParams['figure.dpi'] = 150"
   ]
  },
  {
   "cell_type": "code",
   "execution_count": null,
   "metadata": {},
   "outputs": [],
   "source": [
    "safari_options = Options()\n",
    "safari_options.add_argument(\"headless\")"
   ]
  },
  {
   "cell_type": "code",
   "execution_count": null,
   "metadata": {},
   "outputs": [
    {
     "ename": "",
     "evalue": "",
     "output_type": "error",
     "traceback": [
      "\u001b[1;31mRunning cells with 'selenium' requires the ipykernel package.\n",
      "\u001b[1;31mRun the following command to install 'ipykernel' into the Python environment. \n",
      "\u001b[1;31mCommand: 'conda install -n selenium ipykernel --update-deps --force-reinstall'"
     ]
    }
   ],
   "source": [
    "baseurl = r'https://www.encodeproject.org/matrix/?type=Experiment&control_type%21=%2A&status=released&perturbed=false&assay_title=TF+ChIP-seq&target.investigated_as=transcription+factor&replicates.library.biosample.donor.organism.scientific_name=Homo+sapiens&biosample_ontology.classification=cell+line&biosample_ontology.term_name='"
   ]
  },
  {
   "cell_type": "code",
   "execution_count": null,
   "metadata": {},
   "outputs": [],
   "source": [
    "# select cell : HepG2, K562, HEK293, GM12878, MCF-7, WTC11, A549, SK-N-SH, HeLa-S3, H1"
   ]
  },
  {
   "cell_type": "code",
   "execution_count": null,
   "metadata": {},
   "outputs": [],
   "source": [
    "cell_lines = []\n",
    "tfs = []\n",
    "counts = []\n",
    "\n",
    "for cellline in ['HepG2', 'K562', 'HEK293', 'GM12878', 'MCF-7', 'WTC11', 'A549', 'SK-N-SH', 'HeLa-S3', 'H1']:\n",
    "    url = baseurl + cellline\n",
    "    dr = webdriver.Safari(options=safari_options)\n",
    "    dr.implicitly_wait(10)\n",
    "    dr.get(url)\n",
    "    dr.implicitly_wait(10)\n",
    "    tfs_div = dr.find_element(By.XPATH,'//*[@id=\"facet-group-Assay-Experiment\"]/div[4]/div/div[2]/ul/div[1]')\n",
    "    tf_div = tfs_div.find_elements(By.CLASS_NAME, 'facet-term')\n",
    "    for index, tf in enumerate(tf_div):\n",
    "        cell_lines.append(cellline)\n",
    "        tfs.append(tf.find_element(By.CLASS_NAME, 'facet-term__text').text)\n",
    "        counts.append(tf.find_element(By.CLASS_NAME, 'facet-term__count').text)\n",
    "    dr.quit()\n"
   ]
  },
  {
   "cell_type": "code",
   "execution_count": null,
   "metadata": {},
   "outputs": [],
   "source": [
    "tfs_data_encode = pd.DataFrame({\n",
    "    \"Cell\" : cell_lines,\n",
    "    \"TF\" : tfs,\n",
    "    \"Count\" : counts\n",
    "})"
   ]
  },
  {
   "cell_type": "code",
   "execution_count": null,
   "metadata": {},
   "outputs": [],
   "source": [
    "tfs_data_encode.groupby('Cell').size()"
   ]
  },
  {
   "cell_type": "code",
   "execution_count": null,
   "metadata": {},
   "outputs": [],
   "source": [
    "tfs_family = pd.read_csv('data/tfs_family.csv')\n",
    "tfs_family_dict = dict(tfs_family[['Name','Family']].values)\n",
    "\n",
    "# add Unkonw\n",
    "for i in tfs_data_encode['TF']:\n",
    "    if i in tfs_family_dict.keys():\n",
    "        pass\n",
    "    else:\n",
    "        tfs_family_dict[i] = \"Unknown\"\n",
    "\n"
   ]
  },
  {
   "cell_type": "code",
   "execution_count": null,
   "metadata": {},
   "outputs": [],
   "source": [
    "tfs_data_encode['Family'] = [ tfs_family_dict[i] for i in tfs_data_encode['TF'] ]"
   ]
  },
  {
   "cell_type": "code",
   "execution_count": null,
   "metadata": {},
   "outputs": [],
   "source": []
  },
  {
   "cell_type": "code",
   "execution_count": null,
   "metadata": {},
   "outputs": [],
   "source": [
    "sns.barplot(tfs_data_encode.groupby(['Cell', 'Family']).size().reset_index(name=\"Count\"), x = \"Family\", y=\"Count\", hue=\"Cell\")\n",
    "plt.tick_params(axis='x', labelrotation=45)\n",
    "plt.show()"
   ]
  },
  {
   "cell_type": "code",
   "execution_count": null,
   "metadata": {},
   "outputs": [],
   "source": [
    "tfs_data_encode.groupby(['Cell', 'Family']).size()"
   ]
  },
  {
   "cell_type": "code",
   "execution_count": null,
   "metadata": {},
   "outputs": [],
   "source": [
    "len(tfs_data_encode.drop_duplicates('Family')['Family'])"
   ]
  },
  {
   "cell_type": "code",
   "execution_count": null,
   "metadata": {},
   "outputs": [],
   "source": [
    "comut_data = tfs_data_encode.groupby(['Cell', 'Family']).size().reset_index(name=\"Count\")\n",
    "comut_data.columns = ['category', 'sample', 'value']\n",
    "#comut_data['value'] = [ 1/ (1 + np.exp(-i)) for i in comut_data['value'].tolist() ]\n",
    "comut_data['value'] = \"1\""
   ]
  },
  {
   "cell_type": "code",
   "execution_count": null,
   "metadata": {},
   "outputs": [],
   "source": [
    "family_comut = comut.CoMut()\n",
    "mut_mapping={\"1\":\"#4876FF\"}\n",
    "family_comut.add_categorical_data(comut_data, name='type',mapping=mut_mapping)\n",
    "#family_comut.add_continuous_data(comut_data, name='type')\n",
    "family_comut.plot_comut(figsize = (10,3),x_padding = 0.04, y_padding = 0.04)\n",
    "plt.savefig(\"results/encode.tf.family.pdf\")"
   ]
  },
  {
   "cell_type": "code",
   "execution_count": null,
   "metadata": {},
   "outputs": [],
   "source": [
    "[ 1/ (1 + np.exp(-i)) for i in comut_data['value'].tolist() ]"
   ]
  },
  {
   "cell_type": "code",
   "execution_count": null,
   "metadata": {},
   "outputs": [],
   "source": [
    "np.log10(comut_data['value'].tolist() ) / np.log10(comut_data['value'].max())\n",
    "comut_data['value'].tolist() "
   ]
  }
 ],
 "metadata": {
  "kernelspec": {
   "display_name": "selenium",
   "language": "python",
   "name": "python3"
  },
  "language_info": {
   "name": "python",
   "version": "3.12.1"
  }
 },
 "nbformat": 4,
 "nbformat_minor": 2
}
