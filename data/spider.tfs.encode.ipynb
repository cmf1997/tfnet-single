{
 "cells": [
  {
   "cell_type": "markdown",
   "metadata": {},
   "source": [
    "## Presence of tfs family in different cell line"
   ]
  },
  {
   "cell_type": "code",
   "execution_count": 1,
   "metadata": {},
   "outputs": [],
   "source": [
    "import matplotlib.pyplot as plt\n",
    "import pandas as pd\n",
    "from comut import comut\n",
    "import seaborn as sns\n",
    "from pathlib import Path"
   ]
  },
  {
   "cell_type": "code",
   "execution_count": null,
   "metadata": {},
   "outputs": [],
   "source": [
    "plt.rcParams['figure.dpi'] = 150"
   ]
  },
  {
   "cell_type": "code",
   "execution_count": null,
   "metadata": {},
   "outputs": [],
   "source": [
    "safari_options = Options()\n",
    "safari_options.add_argument(\"headless\")"
   ]
  },
  {
   "cell_type": "code",
   "execution_count": null,
   "metadata": {},
   "outputs": [],
   "source": [
    "baseurl = r'https://www.encodeproject.org/matrix/?type=Experiment&control_type%21=%2A&status=released&perturbed=false&assay_title=TF+ChIP-seq&target.investigated_as=transcription+factor&replicates.library.biosample.donor.organism.scientific_name=Homo+sapiens&biosample_ontology.classification=cell+line&biosample_ontology.term_name='"
   ]
  },
  {
   "cell_type": "code",
   "execution_count": null,
   "metadata": {},
   "outputs": [],
   "source": [
    "# select cell : HepG2, K562, HEK293, GM12878, MCF-7, WTC11, A549, SK-N-SH, HeLa-S3, H1"
   ]
  },
  {
   "cell_type": "code",
   "execution_count": null,
   "metadata": {},
   "outputs": [],
   "source": [
    "cell_lines = []\n",
    "tfs = []\n",
    "counts = []\n",
    "\n",
    "for cellline in ['HepG2', 'K562', 'HEK293', 'GM12878', 'MCF-7', 'WTC11', 'A549', 'SK-N-SH', 'HeLa-S3', 'H1']:\n",
    "    url = baseurl + cellline\n",
    "    dr = webdriver.Safari(options=safari_options)\n",
    "    dr.implicitly_wait(10)\n",
    "    dr.get(url)\n",
    "    dr.implicitly_wait(10)\n",
    "    tfs_div = dr.find_element(By.XPATH,'//*[@id=\"facet-group-Assay-Experiment\"]/div[4]/div/div[2]/ul/div[1]')\n",
    "    tf_div = tfs_div.find_elements(By.CLASS_NAME, 'facet-term')\n",
    "    for index, tf in enumerate(tf_div):\n",
    "        cell_lines.append(cellline)\n",
    "        tfs.append(tf.find_element(By.CLASS_NAME, 'facet-term__text').text)\n",
    "        counts.append(tf.find_element(By.CLASS_NAME, 'facet-term__count').text)\n",
    "    dr.quit()\n"
   ]
  },
  {
   "cell_type": "code",
   "execution_count": null,
   "metadata": {},
   "outputs": [],
   "source": [
    "tfs_data_encode = pd.DataFrame({\n",
    "    \"Cell\" : cell_lines,\n",
    "    \"TF\" : tfs,\n",
    "    \"Count\" : counts\n",
    "})"
   ]
  },
  {
   "cell_type": "code",
   "execution_count": null,
   "metadata": {},
   "outputs": [],
   "source": [
    "tfs_data_encode.groupby('Cell').size()"
   ]
  },
  {
   "cell_type": "code",
   "execution_count": null,
   "metadata": {},
   "outputs": [],
   "source": [
    "tfs_family = pd.read_csv('data/tfs_family.csv')\n",
    "tfs_family_dict = dict(tfs_family[['Name','Family']].values)\n",
    "\n",
    "# add Unkonw\n",
    "for i in tfs_data_encode['TF']:\n",
    "    if i in tfs_family_dict.keys():\n",
    "        pass\n",
    "    else:\n",
    "        tfs_family_dict[i] = \"Unknown\"\n",
    "\n"
   ]
  },
  {
   "cell_type": "code",
   "execution_count": null,
   "metadata": {},
   "outputs": [],
   "source": [
    "tfs_data_encode['Family'] = [ tfs_family_dict[i] for i in tfs_data_encode['TF'] ]"
   ]
  },
  {
   "cell_type": "code",
   "execution_count": null,
   "metadata": {},
   "outputs": [],
   "source": []
  },
  {
   "cell_type": "code",
   "execution_count": null,
   "metadata": {},
   "outputs": [],
   "source": [
    "sns.barplot(tfs_data_encode.groupby(['Cell', 'Family']).size().reset_index(name=\"Count\"), x = \"Family\", y=\"Count\", hue=\"Cell\")\n",
    "plt.tick_params(axis='x', labelrotation=45)\n",
    "plt.show()"
   ]
  },
  {
   "cell_type": "code",
   "execution_count": null,
   "metadata": {},
   "outputs": [],
   "source": [
    "tfs_data_encode.groupby(['Cell', 'Family']).size()"
   ]
  },
  {
   "cell_type": "code",
   "execution_count": null,
   "metadata": {},
   "outputs": [],
   "source": [
    "len(tfs_data_encode.drop_duplicates('Family')['Family'])"
   ]
  },
  {
   "cell_type": "code",
   "execution_count": null,
   "metadata": {},
   "outputs": [],
   "source": [
    "comut_data = tfs_data_encode.groupby(['Cell', 'Family']).size().reset_index(name=\"Count\")\n",
    "comut_data.columns = ['category', 'sample', 'value']\n",
    "#comut_data['value'] = [ 1/ (1 + np.exp(-i)) for i in comut_data['value'].tolist() ]\n",
    "comut_data['value'] = \"1\""
   ]
  },
  {
   "cell_type": "code",
   "execution_count": null,
   "metadata": {},
   "outputs": [],
   "source": [
    "family_comut = comut.CoMut()\n",
    "mut_mapping={\"1\":\"#4876FF\"}\n",
    "family_comut.add_categorical_data(comut_data, name='type',mapping=mut_mapping)\n",
    "#family_comut.add_continuous_data(comut_data, name='type')\n",
    "family_comut.plot_comut(figsize = (10,3),x_padding = 0.04, y_padding = 0.04)\n",
    "plt.savefig(\"results/encode.tf.family.pdf\")"
   ]
  },
  {
   "cell_type": "code",
   "execution_count": null,
   "metadata": {},
   "outputs": [],
   "source": []
  },
  {
   "cell_type": "code",
   "execution_count": null,
   "metadata": {},
   "outputs": [],
   "source": []
  },
  {
   "cell_type": "code",
   "execution_count": null,
   "metadata": {},
   "outputs": [],
   "source": []
  },
  {
   "cell_type": "code",
   "execution_count": null,
   "metadata": {},
   "outputs": [],
   "source": []
  },
  {
   "cell_type": "code",
   "execution_count": null,
   "metadata": {},
   "outputs": [],
   "source": []
  },
  {
   "cell_type": "markdown",
   "metadata": {},
   "source": [
    "## Spider - Encode Project for each cell line"
   ]
  },
  {
   "cell_type": "code",
   "execution_count": null,
   "metadata": {},
   "outputs": [],
   "source": [
    "from selenium import webdriver\n",
    "from time import sleep\n",
    "from selenium.webdriver.common.by import By\n",
    "from selenium.webdriver.safari.options import Options\n",
    "from selenium.webdriver.common.keys import Keys\n",
    "from selenium.webdriver.support import expected_conditions as EC\n",
    "from selenium.common.exceptions import TimeoutException\n",
    "from selenium.webdriver.support.ui import WebDriverWait\n",
    "import pandas as pd"
   ]
  },
  {
   "cell_type": "code",
   "execution_count": null,
   "metadata": {},
   "outputs": [],
   "source": [
    "#encode_hg19 = pd.read_csv('/Users/cmf/Downloads/TFNet-single-tf/data/encode/encode.report.select.cell.tfs.hg19.tsv',header=0, sep='\\t',skiprows=1)\n",
    "encode_hg19 = pd.read_csv('/Users/cmf/Downloads/TFNet-single-tf/data/encode/encode.report.select.cell.tfs.hg19.tsv',header=0, sep='\\t')\n",
    "encode_grch38 = pd.read_csv('/Users/cmf/Downloads/TFNet-single-tf/data/encode/encode.report.select.cell.tfs.grch38.tsv',header=0, sep='\\t')\n",
    "encode_hg19[['Accession', 'Target gene symbol', 'Biosample term name']]"
   ]
  },
  {
   "cell_type": "code",
   "execution_count": null,
   "metadata": {},
   "outputs": [],
   "source": [
    "\n",
    "base_url = 'https://www.encodeproject.org/experiments/'"
   ]
  },
  {
   "cell_type": "code",
   "execution_count": null,
   "metadata": {},
   "outputs": [],
   "source": [
    "safari_options = Options()\n",
    "safari_options.add_argument(\"headless\")"
   ]
  },
  {
   "cell_type": "code",
   "execution_count": null,
   "metadata": {},
   "outputs": [],
   "source": [
    "projects = []\n",
    "file_accessions= []\n",
    "file_types = []\n",
    "output_types = []\n",
    "isogenic_replicates = []\n",
    "genomes = []\n",
    "encode_pipes = []\n",
    "\n",
    "dr = webdriver.Safari(options=safari_options)\n",
    "dr.implicitly_wait(10)\n",
    "\n",
    "#for accession in encode_hg19['Accession']:\n",
    "for accession in encode_hg19['Accession']:\n",
    "    url = base_url + accession\n",
    "    dr.get(url)\n",
    "    sleep(3)\n",
    "    dr.find_element(By.XPATH,'//*[@id=\"content\"]/div/div[3]/div[2]/div[2]/div[1]/ul/li[3]/a').send_keys(Keys.ENTER)\n",
    "    try:\n",
    "        WebDriverWait(dr,10,0.2).until(EC.presence_of_element_located((By.XPATH,'//*[@id=\"tables\"]/div/div[2]/div[2]/div')))\n",
    "    except TimeoutException:\n",
    "        sleep(3)\n",
    "    encode_div = dr.find_element(By.XPATH, '//*[@id=\"tables\"]/div/div[2]/div[2]/div')\n",
    "    for index, table in enumerate(encode_div.find_elements(By.CLASS_NAME,'table__sortable')):\n",
    "        if index != 0:\n",
    "            if table.find_element(By.CLASS_NAME, 'title-main-content__analysis-title').text.find(\"hg19\") !=-1 :\n",
    "                encode_pipe = table.find_element(By.CLASS_NAME, 'title-main-content__analysis-title').text.split(\" \")[0]\n",
    "                tbody = table.find_element(By.TAG_NAME,'tbody')\n",
    "                for tr in tbody.find_elements(By.TAG_NAME,'tr'):\n",
    "                    tds = tr.find_elements(By.TAG_NAME,'td')\n",
    "                    if tds[2].text == 'bed narrowPeak' and tds[3].text == 'optimal IDR thresholded peaks':\n",
    "                        projects.append(accession)\n",
    "                        genomes.append(\"hg19\")\n",
    "                        href = tds[0].find_element(By.TAG_NAME,'a').get_attribute('href')\n",
    "                        file_accessions.append(href.split(\"/\")[4])\n",
    "                        file_types.append(tds[2].text)\n",
    "                        output_types.append(tds[3].text)\n",
    "                        isogenic_replicates.append(tds[4].text)\n",
    "                        encode_pipes.append(encode_pipe)\n",
    "                        print(accession)\n",
    "\n",
    "\n",
    "dr.quit()\n",
    "\n",
    "\n",
    "encode_hg19_spider = pd.DataFrame({\n",
    "    \"project\" : projects,\n",
    "    \"genome\" : genomes,\n",
    "    \"file_accession\" : file_accessions,\n",
    "    \"type\" : file_types,\n",
    "    \"output_type\" : output_types,\n",
    "    \"replicates\" : isogenic_replicates,\n",
    "    \"pipe\": encode_pipes\n",
    "})\n",
    "\n",
    "encode_hg19_spider.to_csv(\"data/encode/encode_hg19_spider.csv\",header=True, index=False)\n",
    "\n",
    "\n"
   ]
  },
  {
   "cell_type": "code",
   "execution_count": null,
   "metadata": {},
   "outputs": [],
   "source": [
    "projects = []\n",
    "file_accessions= []\n",
    "file_types = []\n",
    "output_types = []\n",
    "isogenic_replicates = []\n",
    "genomes = []\n",
    "encode_pipes = []\n",
    "\n",
    "dr = webdriver.Safari(options=safari_options)\n",
    "dr.implicitly_wait(10)\n",
    "\n",
    "#for accession in encode_grch38['Accession']:\n",
    "for accession in encode_grch38['Accession']:\n",
    "    url = base_url + accession\n",
    "    dr.get(url)\n",
    "    sleep(3)\n",
    "    dr.find_element(By.XPATH,'//*[@id=\"content\"]/div/div[3]/div[2]/div[2]/div[1]/ul/li[3]/a').send_keys(Keys.ENTER)\n",
    "    try:\n",
    "        WebDriverWait(dr,10,0.2).until(EC.presence_of_element_located((By.XPATH,'//*[@id=\"tables\"]/div/div[2]/div[2]/div')))\n",
    "    except TimeoutException:\n",
    "        sleep(3)\n",
    "    encode_div = dr.find_element(By.XPATH, '//*[@id=\"tables\"]/div/div[2]/div[2]/div')\n",
    "    for index, table in enumerate(encode_div.find_elements(By.CLASS_NAME,'table__sortable')):\n",
    "        if index != 0:\n",
    "            if table.find_element(By.CLASS_NAME, 'title-main-content__analysis-title').text.find(\"GRCh38\") !=-1 :\n",
    "                encode_pipe = table.find_element(By.CLASS_NAME, 'title-main-content__analysis-title').text.split(\" \")[0]\n",
    "                tbody = table.find_element(By.TAG_NAME,'tbody')\n",
    "                for tr in tbody.find_elements(By.TAG_NAME,'tr'):\n",
    "                    tds = tr.find_elements(By.TAG_NAME,'td')\n",
    "                    if tds[2].text == 'bed narrowPeak' and (tds[3].text == 'optimal IDR thresholded peaks' or tds[3].text == 'IDR thresholded peaks'):\n",
    "                        projects.append(accession)\n",
    "                        print(accession)\n",
    "                        genomes.append(\"GRCh38\")\n",
    "                        href = tds[0].find_element(By.TAG_NAME,'a').get_attribute('href')\n",
    "                        file_accessions.append(href.split(\"/\")[4])\n",
    "                        file_types.append(tds[2].text)\n",
    "                        output_types.append(tds[3].text)\n",
    "                        isogenic_replicates.append(tds[4].text)\n",
    "                        encode_pipes.append(encode_pipe)\n",
    "\n",
    "\n",
    "dr.quit()\n",
    "\n",
    "#encode_grch38_spider = pd.DataFrame({\n",
    "encode_grch38_spider = pd.DataFrame({\n",
    "    \"project\" : projects,\n",
    "    \"genome\" : genomes,\n",
    "    \"file_accession\" : file_accessions,\n",
    "    \"type\" : file_types,\n",
    "    \"output_type\" : output_types,\n",
    "    \"replicates\" : isogenic_replicates,\n",
    "    \"pipe\": encode_pipes\n",
    "})\n",
    "\n",
    "encode_grch38_spider.to_csv(\"data/encode/encode_grch38_spider.csv\",header=True, index=False)"
   ]
  },
  {
   "cell_type": "code",
   "execution_count": null,
   "metadata": {},
   "outputs": [],
   "source": []
  },
  {
   "cell_type": "markdown",
   "metadata": {},
   "source": [
    "### compare tfs collected from encode to all tf_pseudo"
   ]
  },
  {
   "cell_type": "code",
   "execution_count": null,
   "metadata": {},
   "outputs": [],
   "source": [
    "encode_hg19_spider = pd.read_csv(\"data/encode/encode_hg19_spider.csv\",header=0)\n",
    "encode_grch38_spider = pd.read_csv(\"data/encode/encode_grch38_spider.csv\",header=0)"
   ]
  },
  {
   "cell_type": "code",
   "execution_count": null,
   "metadata": {},
   "outputs": [],
   "source": [
    "encode_hg19_tfs = list(set(encode_hg19['Target gene symbol']))\n",
    "encode_grch38_tfs = list(set(encode_grch38['Target gene symbol']))\n",
    "\n"
   ]
  },
  {
   "cell_type": "code",
   "execution_count": null,
   "metadata": {},
   "outputs": [],
   "source": [
    "pseudo_tfs = []\n",
    "with open('data/tf_pseudo/tf_pseudo.txt') as fp:\n",
    "    for line in fp:\n",
    "        if line.rstrip() != \"\":\n",
    "            pseudo_tfs.append(line.rstrip())"
   ]
  },
  {
   "cell_type": "code",
   "execution_count": null,
   "metadata": {},
   "outputs": [],
   "source": [
    "hg19_no_pseudo_tfs = []\n",
    "for i in encode_hg19_tfs:\n",
    "    if i in pseudo_tfs:\n",
    "        pass\n",
    "    else:\n",
    "        hg19_no_pseudo_tfs.append(i)\n",
    "\n",
    "grch38_no_pseudo_tfs = []\n",
    "for i in encode_grch38_tfs:\n",
    "    if i in pseudo_tfs:\n",
    "        pass\n",
    "    else:\n",
    "        grch38_no_pseudo_tfs.append(i)\n",
    "\n",
    "\n",
    "no_pseudo_tfs = set(hg19_no_pseudo_tfs + grch38_no_pseudo_tfs)"
   ]
  },
  {
   "cell_type": "code",
   "execution_count": null,
   "metadata": {},
   "outputs": [],
   "source": [
    "# for tfnet_5\n",
    "shared_tfs = [\"CEBPB\",\"CTCF\",\"EGR1\",\"JUND\",\"MAX\",\"MYC\",\"NRF1\",\"REST\",\"RFX5\",\"SIX5\",\"SP1\",\"SRF\",\"USF2\",\"YY1\",\"ZNF143\"]\n",
    "\n",
    "sum([ i in pseudo_tfs for i in shared_tfs])"
   ]
  },
  {
   "cell_type": "code",
   "execution_count": null,
   "metadata": {},
   "outputs": [],
   "source": []
  },
  {
   "cell_type": "markdown",
   "metadata": {},
   "source": [
    "### Down load bed file for each tf"
   ]
  },
  {
   "cell_type": "markdown",
   "metadata": {},
   "source": [
    "#### for hg19"
   ]
  },
  {
   "cell_type": "code",
   "execution_count": null,
   "metadata": {},
   "outputs": [
    {
     "ename": "",
     "evalue": "",
     "output_type": "error",
     "traceback": [
      "\u001b[1;31mRunning cells with 'selenium' requires the ipykernel package.\n",
      "\u001b[1;31mRun the following command to install 'ipykernel' into the Python environment. \n",
      "\u001b[1;31mCommand: 'conda install -n selenium ipykernel --update-deps --force-reinstall'"
     ]
    }
   ],
   "source": [
    "encode_hg19_spider = pd.read_csv(\"data/encode/encode_hg19_spider.csv\",header=0)"
   ]
  },
  {
   "cell_type": "code",
   "execution_count": null,
   "metadata": {},
   "outputs": [],
   "source": [
    "# find no duplicates for encode_hg19_spider\n",
    "len(encode_hg19_spider) - len(encode_hg19_spider.drop_duplicates('project'))"
   ]
  },
  {
   "cell_type": "code",
   "execution_count": null,
   "metadata": {},
   "outputs": [],
   "source": [
    "encode_hg19_spider.groupby('project').apply(lambda x : x.sort_values('replicates').head(1))"
   ]
  },
  {
   "cell_type": "code",
   "execution_count": null,
   "metadata": {},
   "outputs": [],
   "source": [
    "encode_hg19_spider[[ len(i) != 11 for i in encode_hg19_spider['file_accession']]]"
   ]
  },
  {
   "cell_type": "code",
   "execution_count": null,
   "metadata": {},
   "outputs": [],
   "source": [
    "encode_hg19_short = encode_hg19[['Accession', 'Target gene symbol', 'Biosample term name']]\n",
    "encode_hg19_short.columns = ['project', 'Target', 'Biosample']\n",
    "hg19 = pd.merge(encode_hg19_spider, encode_hg19_short, on='project', how='left')\n",
    "\n",
    "# drop duplicates\n",
    "hg19.drop_duplicates(['Target','Biosample']).to_csv(\"data/encode/encode_hg19_spider.download.csv\",header=True, index=False)"
   ]
  },
  {
   "cell_type": "markdown",
   "metadata": {},
   "source": [
    "#### for grch38"
   ]
  },
  {
   "cell_type": "code",
   "execution_count": null,
   "metadata": {},
   "outputs": [],
   "source": [
    "encode_grch38_spider = pd.read_csv(\"data/encode/encode_grch38_spider.csv\",header=0)"
   ]
  },
  {
   "cell_type": "code",
   "execution_count": null,
   "metadata": {},
   "outputs": [],
   "source": [
    "len(encode_grch38_spider) - len(encode_grch38_spider.drop_duplicates('project'))"
   ]
  },
  {
   "cell_type": "code",
   "execution_count": null,
   "metadata": {},
   "outputs": [],
   "source": [
    "encode_grch38_spider_encode3 = encode_grch38_spider[encode_grch38_spider['pipe'] == \"ENCODE3\"]\n",
    "encode_grch38_spider_encode4 = encode_grch38_spider[encode_grch38_spider['pipe'] == \"ENCODE4\"]\n",
    "\n",
    "print(len(set(encode_grch38_spider_encode3['project'])))\n",
    "print(len(set(encode_grch38_spider_encode4['project'])))"
   ]
  },
  {
   "cell_type": "markdown",
   "metadata": {},
   "source": [
    "### almost all project in encode3 pipeline are covered by encode4, choose encode4 to download bed file\n",
    "print(len(set(encode_grch38_spider_encode3['project'])) - sum(encode_grch38_spider_encode3['project'].isin(encode_grch38_spider_encode4['project'])) )"
   ]
  },
  {
   "cell_type": "code",
   "execution_count": null,
   "metadata": {},
   "outputs": [],
   "source": [
    "# no replicates present as nan in grch38\n",
    "# sum(encode_grch38_spider_encode4['replicates'].isna()) == 0\n",
    "# filter for replicates\n",
    "encode_grch38_spider_encode4_filter = encode_grch38_spider_encode4[[ j == 1 for j in [ i.find(\",\") for i in encode_grch38_spider_encode4['replicates']]]]\n",
    "\n",
    "# 1855\n",
    "len(set(encode_grch38_spider_encode4_filter['project']))\n",
    "# 1891\n",
    "len(encode_grch38_spider_encode4_filter)\n",
    "# show duplicates\n",
    "encode_grch38_spider_encode4_filter[encode_grch38_spider_encode4_filter.duplicated('project', keep=False).tolist()]"
   ]
  },
  {
   "cell_type": "code",
   "execution_count": null,
   "metadata": {},
   "outputs": [],
   "source": [
    "encode_grch38_spider_encode4_filter = encode_grch38_spider_encode4_filter.groupby('project').apply(lambda x : x.head(1)).reset_index(drop=True)"
   ]
  },
  {
   "cell_type": "code",
   "execution_count": null,
   "metadata": {},
   "outputs": [],
   "source": [
    "encode_grch38_short = encode_grch38[['Accession', 'Target gene symbol', 'Biosample term name']]\n",
    "encode_grch38_short.columns = ['project', 'Target', 'Biosample']\n",
    "grch38 = pd.merge(encode_grch38_spider_encode4_filter, encode_grch38_short, on='project', how='left')\n",
    "\n",
    "# drop duplicates\n",
    "\n",
    "#grch38.drop_duplicates(['Target','Biosample']).to_csv(\"data/encode/encode_grch38_spider.download.csv\",header=True, index=False)\n",
    "grch38 = grch38.drop_duplicates(['Target','Biosample'])"
   ]
  },
  {
   "cell_type": "markdown",
   "metadata": {},
   "source": [
    "### most of the unmatch target tfs were non-Homo_sapiens or unknow family or can not find in cisbp database"
   ]
  },
  {
   "cell_type": "code",
   "execution_count": null,
   "metadata": {},
   "outputs": [],
   "source": [
    "filter_grch38_no_pseudo_tfs = []\n",
    "for i in set(grch38[grch38['Biosample'] != 'HEK293']['Target']):\n",
    "    if i in pseudo_tfs:\n",
    "        pass\n",
    "    else:\n",
    "        filter_grch38_no_pseudo_tfs.append(i)\n",
    "\n",
    "\n",
    "print(len(set(filter_grch38_no_pseudo_tfs)))\n",
    "### most of the unmatch target tfs were non-Homo_sapiens or unknow family or can not find in cisbp database"
   ]
  },
  {
   "cell_type": "markdown",
   "metadata": {},
   "source": [
    "### Make txt for download"
   ]
  },
  {
   "cell_type": "code",
   "execution_count": null,
   "metadata": {},
   "outputs": [],
   "source": [
    "# url format 'https://www.encodeproject.org/files/ENCFF795AWO/@@download/ENCFF795AWO.bed.gz'\n",
    "# wget all file\n",
    "base_url = 'https://www.encodeproject.org/files'\n",
    "file_format = '.bed.gz'\n",
    "extra = '@@download'\n",
    "\n",
    "with open('data/encode/encode_grch38.download', 'w') as fp:\n",
    "    #for i in encode_grch38_spider_encode4_filter['file_accession']:\n",
    "    for i in grch38['file_accession']:\n",
    "        fp.write(f'{base_url}/{i}/{extra}/{i}{file_format}\\n')\n",
    "\n",
    "\n",
    "with open('data/encode/encode_hg19.download', 'w') as fp:\n",
    "    #for i in encode_hg19_spider['file_accession']:\n",
    "    for i in hg19['file_accession']:\n",
    "        fp.write(f'{base_url}/{i}/{extra}/{i}{file_format}\\n')"
   ]
  },
  {
   "cell_type": "code",
   "execution_count": null,
   "metadata": {},
   "outputs": [],
   "source": []
  },
  {
   "cell_type": "markdown",
   "metadata": {},
   "source": [
    "### exclude HEK293 due to lack of DNAse data"
   ]
  },
  {
   "cell_type": "code",
   "execution_count": null,
   "metadata": {},
   "outputs": [],
   "source": [
    "# if exclude WTC11 SK-N-SH and HEK293\n",
    "# if exclude SK-N-SH  # due to lack of dnase seq data"
   ]
  },
  {
   "cell_type": "code",
   "execution_count": null,
   "metadata": {},
   "outputs": [],
   "source": [
    "#exclude_cells = [\"WTC11\", \"SK-N-SH\", \"HEK293\"]\n",
    "#exclude_cell = [\"WTC11\"]\n",
    "exclude_cell = [\"HEK293\"]\n",
    "\n",
    "grch38 = pd.merge(encode_grch38_spider_encode4_filter, encode_grch38_short, on='project', how='left')\n",
    "hg19 = pd.merge(encode_hg19_spider, encode_hg19_short, on='project', how='left')\n",
    "\n",
    "nohek293_grch38 = grch38[~grch38['Biosample'].isin(exclude_cell)]\n",
    "\n",
    "print(len(set(grch38['Target'])) - len(set(grch38[~grch38['Biosample'].isin(exclude_cell)]['Target'])))\n",
    "print(len(set(hg19['Target'])) - len(set(hg19[~hg19['Biosample'].isin(exclude_cell)]['Target'])))"
   ]
  },
  {
   "cell_type": "code",
   "execution_count": null,
   "metadata": {},
   "outputs": [],
   "source": []
  },
  {
   "cell_type": "code",
   "execution_count": null,
   "metadata": {},
   "outputs": [],
   "source": []
  },
  {
   "cell_type": "markdown",
   "metadata": {},
   "source": [
    "### plot the presence of all tfs in encode and pseudos"
   ]
  },
  {
   "cell_type": "code",
   "execution_count": null,
   "metadata": {},
   "outputs": [],
   "source": [
    "directory_path = Path(\"data/tf_pseudo/\")\n",
    "pseudo_tfs = []\n",
    "tf_family = []\n",
    "for file_path in list(directory_path.glob(\"*.fa\")):\n",
    "    print(file_path)\n",
    "    with open(file_path,'r') as fp:\n",
    "        for line in fp:\n",
    "            if line.startswith(\">\"):\n",
    "                pseudo_tfs.append(line.lstrip(\">\").rstrip())\n",
    "                tf_family.append(Path(file_path).stem)\n",
    "\n",
    "tfs_family = pd.DataFrame({\"Target\": pseudo_tfs,\n",
    "                           \"family\":tf_family\n",
    "                           })\n",
    "\n",
    "\n",
    "#tfs_family['chip'] = tfs_family['tf'].isin(set(grch38['Target'])).astype(int)\n",
    "tfs_family['chip'] = tfs_family['Target'].isin(set(nohek293_grch38['Target'])).astype(int)\n",
    "\n",
    "\n",
    "#grch38 = pd.merge(nohek293_grch38, tfs_family, on='Target', how='left')"
   ]
  },
  {
   "cell_type": "code",
   "execution_count": null,
   "metadata": {},
   "outputs": [],
   "source": [
    "# if select specific superfamily, check the celltype diversity\n",
    "nohek293_grch38[nohek293_grch38['Target'].isin(set(tfs_family[(tfs_family['chip']==1) & (tfs_family['family'] == 'THAP&SAND&GTF2I&BrkDBD')]['Target']))]"
   ]
  },
  {
   "cell_type": "code",
   "execution_count": null,
   "metadata": {},
   "outputs": [],
   "source": [
    "#select bZIP_1\n",
    "nohek293_grch38[nohek293_grch38['Target'].isin(set(tfs_family[(tfs_family['chip']==1) & (tfs_family['family'] == 'bZIP_1')]['Target']))]\n"
   ]
  },
  {
   "cell_type": "code",
   "execution_count": null,
   "metadata": {},
   "outputs": [],
   "source": []
  },
  {
   "cell_type": "markdown",
   "metadata": {},
   "source": [
    "### All tfs for training (with matched pseudosequences)\n",
    "#### have to remove some chip-data due to lack of matched pseudosequences"
   ]
  },
  {
   "cell_type": "code",
   "execution_count": null,
   "metadata": {},
   "outputs": [],
   "source": [
    "target_family = dict(zip(tfs_family['Target'],tfs_family['family']))"
   ]
  },
  {
   "cell_type": "code",
   "execution_count": null,
   "metadata": {},
   "outputs": [],
   "source": [
    "tfs_family.columns =  ['sample','category','value']\n",
    "all_tfs_training = list(tfs_family['sample'][tfs_family['value'] == 1])\n",
    "all_tfs_training.sort()\n",
    "\n",
    "\n",
    "with open('data/encode/all_tfs.family.training', 'w') as fp:\n",
    "    for i in all_tfs_training:\n",
    "        fp.write(i+\"\\t\"+ target_family[i] + \"\\n\")\n",
    "\n",
    "\n",
    "\n",
    "with open('data/encode/all_tfs.training', 'w') as fp:\n",
    "    for i in all_tfs_training:\n",
    "        fp.write(i+\"\\n\")\n",
    "\n"
   ]
  },
  {
   "cell_type": "markdown",
   "metadata": {},
   "source": [
    "### Plot"
   ]
  },
  {
   "cell_type": "code",
   "execution_count": null,
   "metadata": {},
   "outputs": [],
   "source": [
    "pseudo_family_comut = comut.CoMut()\n",
    "mut_mapping={1:\"red\", 0: \"grey\"}\n",
    "#pseudo_family_comut.add_categorical_data(tfs_family[tfs_family['category']== 'THAP&SAND&GTF2I&BrkDBD'], name='value',mapping=mut_mapping)\n",
    "pseudo_family_comut.add_categorical_data(tfs_family, name='value',mapping=mut_mapping)\n",
    "\n",
    "#family_comut.add_continuous_data(comut_data, name='type')\n",
    "pseudo_family_comut.plot_comut(figsize = (30,9),x_padding = 0.04, y_padding = 0.04)\n",
    "plt.xticks([])  \n",
    "plt.savefig(\"results/pseudo_family.nohek293.pdf\")"
   ]
  },
  {
   "cell_type": "markdown",
   "metadata": {},
   "source": [
    "### Plot cell type / tfs datatable"
   ]
  },
  {
   "cell_type": "code",
   "execution_count": 2,
   "metadata": {},
   "outputs": [
    {
     "ename": "FileNotFoundError",
     "evalue": "[Errno 2] No such file or directory: './data/encode/encode_grch38_spider.download.csv'",
     "output_type": "error",
     "traceback": [
      "\u001b[0;31m---------------------------------------------------------------------------\u001b[0m",
      "\u001b[0;31mFileNotFoundError\u001b[0m                         Traceback (most recent call last)",
      "Cell \u001b[0;32mIn[2], line 1\u001b[0m\n\u001b[0;32m----> 1\u001b[0m download_table \u001b[38;5;241m=\u001b[39m \u001b[43mpd\u001b[49m\u001b[38;5;241;43m.\u001b[39;49m\u001b[43mread_csv\u001b[49m\u001b[43m(\u001b[49m\u001b[38;5;124;43m\"\u001b[39;49m\u001b[38;5;124;43m./data/encode/encode_grch38_spider.download.csv\u001b[39;49m\u001b[38;5;124;43m\"\u001b[39;49m\u001b[43m,\u001b[49m\u001b[43m \u001b[49m\u001b[43mheader\u001b[49m\u001b[38;5;241;43m=\u001b[39;49m\u001b[38;5;241;43m0\u001b[39;49m\u001b[43m)\u001b[49m\n\u001b[1;32m      2\u001b[0m download_table \u001b[38;5;241m=\u001b[39m download_table[[\u001b[38;5;124m'\u001b[39m\u001b[38;5;124mTarget\u001b[39m\u001b[38;5;124m'\u001b[39m, \u001b[38;5;124m'\u001b[39m\u001b[38;5;124mBiosample\u001b[39m\u001b[38;5;124m'\u001b[39m]]\n\u001b[1;32m      3\u001b[0m download_table \u001b[38;5;241m=\u001b[39m download_table[\u001b[38;5;241m~\u001b[39mdownload_table[\u001b[38;5;124m'\u001b[39m\u001b[38;5;124mBiosample\u001b[39m\u001b[38;5;124m'\u001b[39m]\u001b[38;5;241m.\u001b[39misin([\u001b[38;5;124m\"\u001b[39m\u001b[38;5;124mHEK293\u001b[39m\u001b[38;5;124m\"\u001b[39m])]\n",
      "File \u001b[0;32m/opt/homebrew/Caskroom/miniforge/base/envs/pytorch/lib/python3.10/site-packages/pandas/io/parsers/readers.py:948\u001b[0m, in \u001b[0;36mread_csv\u001b[0;34m(filepath_or_buffer, sep, delimiter, header, names, index_col, usecols, dtype, engine, converters, true_values, false_values, skipinitialspace, skiprows, skipfooter, nrows, na_values, keep_default_na, na_filter, verbose, skip_blank_lines, parse_dates, infer_datetime_format, keep_date_col, date_parser, date_format, dayfirst, cache_dates, iterator, chunksize, compression, thousands, decimal, lineterminator, quotechar, quoting, doublequote, escapechar, comment, encoding, encoding_errors, dialect, on_bad_lines, delim_whitespace, low_memory, memory_map, float_precision, storage_options, dtype_backend)\u001b[0m\n\u001b[1;32m    935\u001b[0m kwds_defaults \u001b[38;5;241m=\u001b[39m _refine_defaults_read(\n\u001b[1;32m    936\u001b[0m     dialect,\n\u001b[1;32m    937\u001b[0m     delimiter,\n\u001b[0;32m   (...)\u001b[0m\n\u001b[1;32m    944\u001b[0m     dtype_backend\u001b[38;5;241m=\u001b[39mdtype_backend,\n\u001b[1;32m    945\u001b[0m )\n\u001b[1;32m    946\u001b[0m kwds\u001b[38;5;241m.\u001b[39mupdate(kwds_defaults)\n\u001b[0;32m--> 948\u001b[0m \u001b[38;5;28;01mreturn\u001b[39;00m \u001b[43m_read\u001b[49m\u001b[43m(\u001b[49m\u001b[43mfilepath_or_buffer\u001b[49m\u001b[43m,\u001b[49m\u001b[43m \u001b[49m\u001b[43mkwds\u001b[49m\u001b[43m)\u001b[49m\n",
      "File \u001b[0;32m/opt/homebrew/Caskroom/miniforge/base/envs/pytorch/lib/python3.10/site-packages/pandas/io/parsers/readers.py:611\u001b[0m, in \u001b[0;36m_read\u001b[0;34m(filepath_or_buffer, kwds)\u001b[0m\n\u001b[1;32m    608\u001b[0m _validate_names(kwds\u001b[38;5;241m.\u001b[39mget(\u001b[38;5;124m\"\u001b[39m\u001b[38;5;124mnames\u001b[39m\u001b[38;5;124m\"\u001b[39m, \u001b[38;5;28;01mNone\u001b[39;00m))\n\u001b[1;32m    610\u001b[0m \u001b[38;5;66;03m# Create the parser.\u001b[39;00m\n\u001b[0;32m--> 611\u001b[0m parser \u001b[38;5;241m=\u001b[39m \u001b[43mTextFileReader\u001b[49m\u001b[43m(\u001b[49m\u001b[43mfilepath_or_buffer\u001b[49m\u001b[43m,\u001b[49m\u001b[43m \u001b[49m\u001b[38;5;241;43m*\u001b[39;49m\u001b[38;5;241;43m*\u001b[39;49m\u001b[43mkwds\u001b[49m\u001b[43m)\u001b[49m\n\u001b[1;32m    613\u001b[0m \u001b[38;5;28;01mif\u001b[39;00m chunksize \u001b[38;5;129;01mor\u001b[39;00m iterator:\n\u001b[1;32m    614\u001b[0m     \u001b[38;5;28;01mreturn\u001b[39;00m parser\n",
      "File \u001b[0;32m/opt/homebrew/Caskroom/miniforge/base/envs/pytorch/lib/python3.10/site-packages/pandas/io/parsers/readers.py:1448\u001b[0m, in \u001b[0;36mTextFileReader.__init__\u001b[0;34m(self, f, engine, **kwds)\u001b[0m\n\u001b[1;32m   1445\u001b[0m     \u001b[38;5;28mself\u001b[39m\u001b[38;5;241m.\u001b[39moptions[\u001b[38;5;124m\"\u001b[39m\u001b[38;5;124mhas_index_names\u001b[39m\u001b[38;5;124m\"\u001b[39m] \u001b[38;5;241m=\u001b[39m kwds[\u001b[38;5;124m\"\u001b[39m\u001b[38;5;124mhas_index_names\u001b[39m\u001b[38;5;124m\"\u001b[39m]\n\u001b[1;32m   1447\u001b[0m \u001b[38;5;28mself\u001b[39m\u001b[38;5;241m.\u001b[39mhandles: IOHandles \u001b[38;5;241m|\u001b[39m \u001b[38;5;28;01mNone\u001b[39;00m \u001b[38;5;241m=\u001b[39m \u001b[38;5;28;01mNone\u001b[39;00m\n\u001b[0;32m-> 1448\u001b[0m \u001b[38;5;28mself\u001b[39m\u001b[38;5;241m.\u001b[39m_engine \u001b[38;5;241m=\u001b[39m \u001b[38;5;28;43mself\u001b[39;49m\u001b[38;5;241;43m.\u001b[39;49m\u001b[43m_make_engine\u001b[49m\u001b[43m(\u001b[49m\u001b[43mf\u001b[49m\u001b[43m,\u001b[49m\u001b[43m \u001b[49m\u001b[38;5;28;43mself\u001b[39;49m\u001b[38;5;241;43m.\u001b[39;49m\u001b[43mengine\u001b[49m\u001b[43m)\u001b[49m\n",
      "File \u001b[0;32m/opt/homebrew/Caskroom/miniforge/base/envs/pytorch/lib/python3.10/site-packages/pandas/io/parsers/readers.py:1705\u001b[0m, in \u001b[0;36mTextFileReader._make_engine\u001b[0;34m(self, f, engine)\u001b[0m\n\u001b[1;32m   1703\u001b[0m     \u001b[38;5;28;01mif\u001b[39;00m \u001b[38;5;124m\"\u001b[39m\u001b[38;5;124mb\u001b[39m\u001b[38;5;124m\"\u001b[39m \u001b[38;5;129;01mnot\u001b[39;00m \u001b[38;5;129;01min\u001b[39;00m mode:\n\u001b[1;32m   1704\u001b[0m         mode \u001b[38;5;241m+\u001b[39m\u001b[38;5;241m=\u001b[39m \u001b[38;5;124m\"\u001b[39m\u001b[38;5;124mb\u001b[39m\u001b[38;5;124m\"\u001b[39m\n\u001b[0;32m-> 1705\u001b[0m \u001b[38;5;28mself\u001b[39m\u001b[38;5;241m.\u001b[39mhandles \u001b[38;5;241m=\u001b[39m \u001b[43mget_handle\u001b[49m\u001b[43m(\u001b[49m\n\u001b[1;32m   1706\u001b[0m \u001b[43m    \u001b[49m\u001b[43mf\u001b[49m\u001b[43m,\u001b[49m\n\u001b[1;32m   1707\u001b[0m \u001b[43m    \u001b[49m\u001b[43mmode\u001b[49m\u001b[43m,\u001b[49m\n\u001b[1;32m   1708\u001b[0m \u001b[43m    \u001b[49m\u001b[43mencoding\u001b[49m\u001b[38;5;241;43m=\u001b[39;49m\u001b[38;5;28;43mself\u001b[39;49m\u001b[38;5;241;43m.\u001b[39;49m\u001b[43moptions\u001b[49m\u001b[38;5;241;43m.\u001b[39;49m\u001b[43mget\u001b[49m\u001b[43m(\u001b[49m\u001b[38;5;124;43m\"\u001b[39;49m\u001b[38;5;124;43mencoding\u001b[39;49m\u001b[38;5;124;43m\"\u001b[39;49m\u001b[43m,\u001b[49m\u001b[43m \u001b[49m\u001b[38;5;28;43;01mNone\u001b[39;49;00m\u001b[43m)\u001b[49m\u001b[43m,\u001b[49m\n\u001b[1;32m   1709\u001b[0m \u001b[43m    \u001b[49m\u001b[43mcompression\u001b[49m\u001b[38;5;241;43m=\u001b[39;49m\u001b[38;5;28;43mself\u001b[39;49m\u001b[38;5;241;43m.\u001b[39;49m\u001b[43moptions\u001b[49m\u001b[38;5;241;43m.\u001b[39;49m\u001b[43mget\u001b[49m\u001b[43m(\u001b[49m\u001b[38;5;124;43m\"\u001b[39;49m\u001b[38;5;124;43mcompression\u001b[39;49m\u001b[38;5;124;43m\"\u001b[39;49m\u001b[43m,\u001b[49m\u001b[43m \u001b[49m\u001b[38;5;28;43;01mNone\u001b[39;49;00m\u001b[43m)\u001b[49m\u001b[43m,\u001b[49m\n\u001b[1;32m   1710\u001b[0m \u001b[43m    \u001b[49m\u001b[43mmemory_map\u001b[49m\u001b[38;5;241;43m=\u001b[39;49m\u001b[38;5;28;43mself\u001b[39;49m\u001b[38;5;241;43m.\u001b[39;49m\u001b[43moptions\u001b[49m\u001b[38;5;241;43m.\u001b[39;49m\u001b[43mget\u001b[49m\u001b[43m(\u001b[49m\u001b[38;5;124;43m\"\u001b[39;49m\u001b[38;5;124;43mmemory_map\u001b[39;49m\u001b[38;5;124;43m\"\u001b[39;49m\u001b[43m,\u001b[49m\u001b[43m \u001b[49m\u001b[38;5;28;43;01mFalse\u001b[39;49;00m\u001b[43m)\u001b[49m\u001b[43m,\u001b[49m\n\u001b[1;32m   1711\u001b[0m \u001b[43m    \u001b[49m\u001b[43mis_text\u001b[49m\u001b[38;5;241;43m=\u001b[39;49m\u001b[43mis_text\u001b[49m\u001b[43m,\u001b[49m\n\u001b[1;32m   1712\u001b[0m \u001b[43m    \u001b[49m\u001b[43merrors\u001b[49m\u001b[38;5;241;43m=\u001b[39;49m\u001b[38;5;28;43mself\u001b[39;49m\u001b[38;5;241;43m.\u001b[39;49m\u001b[43moptions\u001b[49m\u001b[38;5;241;43m.\u001b[39;49m\u001b[43mget\u001b[49m\u001b[43m(\u001b[49m\u001b[38;5;124;43m\"\u001b[39;49m\u001b[38;5;124;43mencoding_errors\u001b[39;49m\u001b[38;5;124;43m\"\u001b[39;49m\u001b[43m,\u001b[49m\u001b[43m \u001b[49m\u001b[38;5;124;43m\"\u001b[39;49m\u001b[38;5;124;43mstrict\u001b[39;49m\u001b[38;5;124;43m\"\u001b[39;49m\u001b[43m)\u001b[49m\u001b[43m,\u001b[49m\n\u001b[1;32m   1713\u001b[0m \u001b[43m    \u001b[49m\u001b[43mstorage_options\u001b[49m\u001b[38;5;241;43m=\u001b[39;49m\u001b[38;5;28;43mself\u001b[39;49m\u001b[38;5;241;43m.\u001b[39;49m\u001b[43moptions\u001b[49m\u001b[38;5;241;43m.\u001b[39;49m\u001b[43mget\u001b[49m\u001b[43m(\u001b[49m\u001b[38;5;124;43m\"\u001b[39;49m\u001b[38;5;124;43mstorage_options\u001b[39;49m\u001b[38;5;124;43m\"\u001b[39;49m\u001b[43m,\u001b[49m\u001b[43m \u001b[49m\u001b[38;5;28;43;01mNone\u001b[39;49;00m\u001b[43m)\u001b[49m\u001b[43m,\u001b[49m\n\u001b[1;32m   1714\u001b[0m \u001b[43m\u001b[49m\u001b[43m)\u001b[49m\n\u001b[1;32m   1715\u001b[0m \u001b[38;5;28;01massert\u001b[39;00m \u001b[38;5;28mself\u001b[39m\u001b[38;5;241m.\u001b[39mhandles \u001b[38;5;129;01mis\u001b[39;00m \u001b[38;5;129;01mnot\u001b[39;00m \u001b[38;5;28;01mNone\u001b[39;00m\n\u001b[1;32m   1716\u001b[0m f \u001b[38;5;241m=\u001b[39m \u001b[38;5;28mself\u001b[39m\u001b[38;5;241m.\u001b[39mhandles\u001b[38;5;241m.\u001b[39mhandle\n",
      "File \u001b[0;32m/opt/homebrew/Caskroom/miniforge/base/envs/pytorch/lib/python3.10/site-packages/pandas/io/common.py:863\u001b[0m, in \u001b[0;36mget_handle\u001b[0;34m(path_or_buf, mode, encoding, compression, memory_map, is_text, errors, storage_options)\u001b[0m\n\u001b[1;32m    858\u001b[0m \u001b[38;5;28;01melif\u001b[39;00m \u001b[38;5;28misinstance\u001b[39m(handle, \u001b[38;5;28mstr\u001b[39m):\n\u001b[1;32m    859\u001b[0m     \u001b[38;5;66;03m# Check whether the filename is to be opened in binary mode.\u001b[39;00m\n\u001b[1;32m    860\u001b[0m     \u001b[38;5;66;03m# Binary mode does not support 'encoding' and 'newline'.\u001b[39;00m\n\u001b[1;32m    861\u001b[0m     \u001b[38;5;28;01mif\u001b[39;00m ioargs\u001b[38;5;241m.\u001b[39mencoding \u001b[38;5;129;01mand\u001b[39;00m \u001b[38;5;124m\"\u001b[39m\u001b[38;5;124mb\u001b[39m\u001b[38;5;124m\"\u001b[39m \u001b[38;5;129;01mnot\u001b[39;00m \u001b[38;5;129;01min\u001b[39;00m ioargs\u001b[38;5;241m.\u001b[39mmode:\n\u001b[1;32m    862\u001b[0m         \u001b[38;5;66;03m# Encoding\u001b[39;00m\n\u001b[0;32m--> 863\u001b[0m         handle \u001b[38;5;241m=\u001b[39m \u001b[38;5;28;43mopen\u001b[39;49m\u001b[43m(\u001b[49m\n\u001b[1;32m    864\u001b[0m \u001b[43m            \u001b[49m\u001b[43mhandle\u001b[49m\u001b[43m,\u001b[49m\n\u001b[1;32m    865\u001b[0m \u001b[43m            \u001b[49m\u001b[43mioargs\u001b[49m\u001b[38;5;241;43m.\u001b[39;49m\u001b[43mmode\u001b[49m\u001b[43m,\u001b[49m\n\u001b[1;32m    866\u001b[0m \u001b[43m            \u001b[49m\u001b[43mencoding\u001b[49m\u001b[38;5;241;43m=\u001b[39;49m\u001b[43mioargs\u001b[49m\u001b[38;5;241;43m.\u001b[39;49m\u001b[43mencoding\u001b[49m\u001b[43m,\u001b[49m\n\u001b[1;32m    867\u001b[0m \u001b[43m            \u001b[49m\u001b[43merrors\u001b[49m\u001b[38;5;241;43m=\u001b[39;49m\u001b[43merrors\u001b[49m\u001b[43m,\u001b[49m\n\u001b[1;32m    868\u001b[0m \u001b[43m            \u001b[49m\u001b[43mnewline\u001b[49m\u001b[38;5;241;43m=\u001b[39;49m\u001b[38;5;124;43m\"\u001b[39;49m\u001b[38;5;124;43m\"\u001b[39;49m\u001b[43m,\u001b[49m\n\u001b[1;32m    869\u001b[0m \u001b[43m        \u001b[49m\u001b[43m)\u001b[49m\n\u001b[1;32m    870\u001b[0m     \u001b[38;5;28;01melse\u001b[39;00m:\n\u001b[1;32m    871\u001b[0m         \u001b[38;5;66;03m# Binary mode\u001b[39;00m\n\u001b[1;32m    872\u001b[0m         handle \u001b[38;5;241m=\u001b[39m \u001b[38;5;28mopen\u001b[39m(handle, ioargs\u001b[38;5;241m.\u001b[39mmode)\n",
      "\u001b[0;31mFileNotFoundError\u001b[0m: [Errno 2] No such file or directory: './data/encode/encode_grch38_spider.download.csv'"
     ]
    }
   ],
   "source": [
    "download_table = pd.read_csv(\"./data/encode/encode_grch38_spider.download.csv\", header=0)\n",
    "download_table = download_table[['Target', 'Biosample']]\n",
    "download_table = download_table[~download_table['Biosample'].isin([\"HEK293\"])]\n",
    "download_table['value'] = 1\n",
    "download_table.columns =  ['sample','category','value']\n",
    "download_table = download_table.sort_values([\"category\",\"sample\"])\n",
    "\n",
    "#download_table.pivot_table(index=\"Target\", columns=\"Biosample\", values=\"value\")"
   ]
  },
  {
   "cell_type": "code",
   "execution_count": null,
   "metadata": {},
   "outputs": [],
   "source": [
    "tfs_family = pd.read_csv('data/tfs_family.csv')\n",
    "tfs_family_dict = dict(tfs_family[['Name','Family']].values)\n",
    "tfs_family_dict.update({key :\"Unknown\" for key in set(download_table['sample'][~download_table['sample'].isin(tfs_family['Name'])].tolist())})\n",
    "\n",
    "download_table['family'] = [tfs_family_dict[i] for i in download_table['sample']]"
   ]
  },
  {
   "cell_type": "code",
   "execution_count": null,
   "metadata": {},
   "outputs": [],
   "source": [
    "plt.rcParams.update({'font.size': 5})\n",
    "mut_mapping={1:\"#4169E1\"}\n",
    "download_table_comut = comut.CoMut()\n",
    "download_table_comut.add_categorical_data(download_table, name='value', mapping=mut_mapping)\n",
    "download_table_comut.plot_comut(figsize = (45,10),x_padding = 0.04, y_padding = 0.04)\n",
    "#plt.xticks([])  \n",
    "plt.savefig(\"results/download_celltype_tfs.pdf\")"
   ]
  },
  {
   "cell_type": "code",
   "execution_count": null,
   "metadata": {},
   "outputs": [],
   "source": [
    "download_table = pd.merge(download_table,download_table['sample'].value_counts().to_frame().reset_index(),how=\"left\", on=\"sample\")\n",
    "download_table['group'] = [\"1\" if i == 1 else \"2\" if i == 2 else \">3\" for i in download_table['count']]\n",
    "download_table[['category','group']].groupby(\"category\").value_counts(normalize=True).to_frame().reset_index()"
   ]
  },
  {
   "cell_type": "code",
   "execution_count": null,
   "metadata": {},
   "outputs": [],
   "source": [
    "sns.barplot(download_table[['category','group']].groupby(\"category\").value_counts(normalize=True).to_frame().reset_index(), x=\"category\", y=\"proportion\", hue=\"group\", dodge=False)\n",
    "plt.show()"
   ]
  },
  {
   "cell_type": "code",
   "execution_count": null,
   "metadata": {},
   "outputs": [],
   "source": []
  },
  {
   "cell_type": "code",
   "execution_count": null,
   "metadata": {},
   "outputs": [],
   "source": [
    "'''\n",
    "custom_params = {\"axes.spines.right\": False, \"axes.spines.top\": False}\n",
    "sns.set_theme(style=\"ticks\", rc=custom_params)\n",
    "plt.rcParams.update({'font.size': 10})\n",
    "plt.figure(figsize=(8,8))\n",
    "ax = sns.histplot(\n",
    "    data=download_table,\n",
    "    x=\"category\", hue=\"group\",\n",
    "    multiple=\"fill\", stat=\"proportion\",\n",
    "    discrete=True, shrink=.8\n",
    ")\n",
    "plt.xlabel(\"\")\n",
    "sns.move_legend(ax, \"upper left\", bbox_to_anchor=(1, 1))\n",
    "plt.xticks(rotation=45)\n",
    "plt.savefig(\"results/distribute.normalize.2.pdf\")\n",
    "\n",
    "plt.figure(figsize=(8,8))\n",
    "ax = sns.histplot(\n",
    "    data=download_table,\n",
    "    x=\"category\", hue=\"group\",\n",
    "    multiple=\"stack\", stat=\"count\",\n",
    "    discrete=True, shrink=.8\n",
    ")\n",
    "plt.xlabel(\"\")\n",
    "sns.move_legend(ax, \"upper left\", bbox_to_anchor=(1, 1))\n",
    "plt.xticks(rotation=45)\n",
    "plt.savefig(\"results/distribute.2.pdf\")\n",
    "'''"
   ]
  },
  {
   "cell_type": "code",
   "execution_count": null,
   "metadata": {},
   "outputs": [],
   "source": [
    "fig, axs = plt.subplots(ncols=2)\n",
    "plt.rcParams.update({'figsize': (16,8)})\n",
    "custom_params = {\"axes.spines.right\": False, \"axes.spines.top\": False}\n",
    "sns.set_theme(style=\"ticks\", rc=custom_params)\n",
    "\n",
    "sns.histplot(\n",
    "    data=download_table.sort_values(['category','group']),\n",
    "    x=\"category\", hue=\"group\",\n",
    "    multiple=\"fill\", stat=\"proportion\",\n",
    "    discrete=True, shrink=.8, ax=axs[0], legend=False\n",
    ")\n",
    "axs[0].set(xlabel='')\n",
    "axs[0].set_xticklabels(axs[0].get_xticklabels(), rotation=45)\n",
    "\n",
    "sns.histplot(\n",
    "    data=download_table.sort_values(['category','group']),\n",
    "    x=\"category\", hue=\"group\",\n",
    "    multiple=\"stack\", stat=\"count\",\n",
    "    discrete=True, shrink=.8, ax=axs[1]\n",
    ")\n",
    "axs[1].set(xlabel='')\n",
    "sns.move_legend(axs[1], \"upper left\", bbox_to_anchor=(0.9, 1), title=None, frameon=False)\n",
    "axs[1].set_xticklabels(axs[1].get_xticklabels(), rotation=45)\n",
    "\n",
    "fig.savefig(\"results/distribute.pdf\")"
   ]
  },
  {
   "cell_type": "code",
   "execution_count": null,
   "metadata": {},
   "outputs": [],
   "source": [
    "enable_labels = set(download_table[['category', 'family']].groupby('category').apply(lambda x:x.value_counts(\"family\").head(5)).to_frame().reset_index()['family'])\n",
    "download_table['enable_lable'] = [i if i in enable_labels else \"other\"  for i in download_table['family']]"
   ]
  },
  {
   "cell_type": "code",
   "execution_count": null,
   "metadata": {},
   "outputs": [],
   "source": [
    "'''\n",
    "custom_params = {\"axes.spines.right\": False, \"axes.spines.top\": False}\n",
    "sns.set_theme(style=\"ticks\", rc=custom_params)\n",
    "plt.rcParams.update({'font.size': 10})\n",
    "plt.figure(figsize=(8,8))\n",
    "ax = sns.histplot(\n",
    "    data=download_table.sort_values(['category','enable_lable']),\n",
    "    x=\"category\", hue=\"enable_lable\",\n",
    "    multiple=\"fill\", stat=\"proportion\",\n",
    "    discrete=True, shrink=.8\n",
    ")\n",
    "plt.xlabel(\"\")\n",
    "plt.xticks(rotation=45)\n",
    "sns.move_legend(ax, \"upper left\", bbox_to_anchor=(1, 1))\n",
    "plt.savefig(\"results/distribute.family.normalize.pdf\")\n",
    "#plt.show()\n",
    "\n",
    "sns.histplot(\n",
    "    data=download_table.sort_values(['category','enable_lable']),\n",
    "    x=\"category\", hue=\"enable_lable\",\n",
    "    multiple=\"stack\", stat=\"count\",\n",
    "    discrete=True, shrink=.8\n",
    ")\n",
    "plt.xlabel(\"\")\n",
    "plt.xticks(rotation=45)\n",
    "sns.move_legend(ax, \"upper left\", bbox_to_anchor=(1, 1))\n",
    "plt.savefig(\"results/distribute.family.pdf\")\n",
    "'''"
   ]
  },
  {
   "cell_type": "code",
   "execution_count": null,
   "metadata": {},
   "outputs": [],
   "source": [
    "fig, axs = plt.subplots(ncols=2)\n",
    "plt.rcParams.update({'figsize': (16,8)})\n",
    "custom_params = {\"axes.spines.right\": False, \"axes.spines.top\": False}\n",
    "sns.set_theme(style=\"ticks\", rc=custom_params)\n",
    "\n",
    "sns.histplot(\n",
    "    data=download_table.sort_values(['category','enable_lable']),\n",
    "    x=\"category\", hue=\"enable_lable\",\n",
    "    multiple=\"fill\", stat=\"proportion\",\n",
    "    discrete=True, shrink=.8, ax=axs[0], legend=False\n",
    ")\n",
    "axs[0].set(xlabel='')\n",
    "axs[0].set_xticklabels(axs[0].get_xticklabels(), rotation=45)\n",
    "\n",
    "sns.histplot(\n",
    "    data=download_table.sort_values(['category','enable_lable']),\n",
    "    x=\"category\", hue=\"enable_lable\",\n",
    "    multiple=\"stack\", stat=\"count\",\n",
    "    discrete=True, shrink=.8, ax=axs[1]\n",
    ")\n",
    "axs[1].set(xlabel='')\n",
    "sns.move_legend(axs[1], \"upper left\", bbox_to_anchor=(0.9, 1), title=None, frameon=False)\n",
    "axs[1].set_xticklabels(axs[1].get_xticklabels(), rotation=45)\n",
    "\n",
    "fig.savefig(\"results/distribute.family.pdf\")"
   ]
  },
  {
   "cell_type": "code",
   "execution_count": null,
   "metadata": {},
   "outputs": [],
   "source": [
    "download_table2 = download_table.pivot_table(index=\"sample\", columns=\"category\", values=\"value\")\n",
    "download_table2[download_table2.isna()] = 0"
   ]
  },
  {
   "cell_type": "code",
   "execution_count": null,
   "metadata": {},
   "outputs": [],
   "source": []
  },
  {
   "cell_type": "code",
   "execution_count": null,
   "metadata": {},
   "outputs": [],
   "source": [
    "#plt.figure(figsize=(6,150))\n",
    "sns.heatmap(download_table2,cmap=[\"white\", \"blue\"])\n",
    "plt.show()"
   ]
  },
  {
   "cell_type": "markdown",
   "metadata": {},
   "source": [
    "### select overlap tfs for valid cross celltype performance under the circumcetance of similarity"
   ]
  },
  {
   "cell_type": "code",
   "execution_count": 3,
   "metadata": {},
   "outputs": [],
   "source": [
    "download_table = pd.read_csv(\"/Users/cmf/Downloads/TFNet-single-tf/data/encode/encode_grch38_spider.download.csv\", header=0)\n",
    "download_table = download_table[['Target', 'Biosample']]\n",
    "download_table = download_table[~download_table['Biosample'].isin([\"HEK293\"])]\n",
    "download_table['value'] = 1\n",
    "download_table.columns =  ['sample','category','value']\n",
    "download_table = download_table.sort_values([\"category\",\"sample\"])\n",
    "\n",
    "#download_table.pivot_table(index=\"Target\", columns=\"Biosample\", values=\"value\")\n",
    "\n",
    "\n",
    "download_table2 = download_table.pivot_table(index=\"sample\", columns=\"category\", values=\"value\")\n",
    "download_table2[download_table2.isna()] = 0"
   ]
  },
  {
   "cell_type": "code",
   "execution_count": 4,
   "metadata": {},
   "outputs": [
    {
     "data": {
      "text/html": [
       "<div>\n",
       "<style scoped>\n",
       "    .dataframe tbody tr th:only-of-type {\n",
       "        vertical-align: middle;\n",
       "    }\n",
       "\n",
       "    .dataframe tbody tr th {\n",
       "        vertical-align: top;\n",
       "    }\n",
       "\n",
       "    .dataframe thead th {\n",
       "        text-align: right;\n",
       "    }\n",
       "</style>\n",
       "<table border=\"1\" class=\"dataframe\">\n",
       "  <thead>\n",
       "    <tr style=\"text-align: right;\">\n",
       "      <th>category</th>\n",
       "      <th>A549</th>\n",
       "      <th>GM12878</th>\n",
       "      <th>H1</th>\n",
       "      <th>HeLa-S3</th>\n",
       "      <th>HepG2</th>\n",
       "      <th>K562</th>\n",
       "      <th>MCF-7</th>\n",
       "      <th>SK-N-SH</th>\n",
       "      <th>WTC11</th>\n",
       "    </tr>\n",
       "    <tr>\n",
       "      <th>sample</th>\n",
       "      <th></th>\n",
       "      <th></th>\n",
       "      <th></th>\n",
       "      <th></th>\n",
       "      <th></th>\n",
       "      <th></th>\n",
       "      <th></th>\n",
       "      <th></th>\n",
       "      <th></th>\n",
       "    </tr>\n",
       "  </thead>\n",
       "  <tbody>\n",
       "    <tr>\n",
       "      <th>CTCF</th>\n",
       "      <td>1.0</td>\n",
       "      <td>1.0</td>\n",
       "      <td>1.0</td>\n",
       "      <td>1.0</td>\n",
       "      <td>1.0</td>\n",
       "      <td>1.0</td>\n",
       "      <td>1.0</td>\n",
       "      <td>1.0</td>\n",
       "      <td>1.0</td>\n",
       "    </tr>\n",
       "    <tr>\n",
       "      <th>MAX</th>\n",
       "      <td>1.0</td>\n",
       "      <td>1.0</td>\n",
       "      <td>1.0</td>\n",
       "      <td>1.0</td>\n",
       "      <td>1.0</td>\n",
       "      <td>1.0</td>\n",
       "      <td>1.0</td>\n",
       "      <td>1.0</td>\n",
       "      <td>1.0</td>\n",
       "    </tr>\n",
       "    <tr>\n",
       "      <th>TEAD4</th>\n",
       "      <td>1.0</td>\n",
       "      <td>0.0</td>\n",
       "      <td>1.0</td>\n",
       "      <td>0.0</td>\n",
       "      <td>1.0</td>\n",
       "      <td>1.0</td>\n",
       "      <td>1.0</td>\n",
       "      <td>1.0</td>\n",
       "      <td>1.0</td>\n",
       "    </tr>\n",
       "    <tr>\n",
       "      <th>USF1</th>\n",
       "      <td>0.0</td>\n",
       "      <td>1.0</td>\n",
       "      <td>1.0</td>\n",
       "      <td>0.0</td>\n",
       "      <td>1.0</td>\n",
       "      <td>1.0</td>\n",
       "      <td>0.0</td>\n",
       "      <td>1.0</td>\n",
       "      <td>1.0</td>\n",
       "    </tr>\n",
       "    <tr>\n",
       "      <th>USF2</th>\n",
       "      <td>1.0</td>\n",
       "      <td>1.0</td>\n",
       "      <td>1.0</td>\n",
       "      <td>1.0</td>\n",
       "      <td>1.0</td>\n",
       "      <td>1.0</td>\n",
       "      <td>0.0</td>\n",
       "      <td>1.0</td>\n",
       "      <td>1.0</td>\n",
       "    </tr>\n",
       "  </tbody>\n",
       "</table>\n",
       "</div>"
      ],
      "text/plain": [
       "category  A549  GM12878   H1  HeLa-S3  HepG2  K562  MCF-7  SK-N-SH  WTC11\n",
       "sample                                                                   \n",
       "CTCF       1.0      1.0  1.0      1.0    1.0   1.0    1.0      1.0    1.0\n",
       "MAX        1.0      1.0  1.0      1.0    1.0   1.0    1.0      1.0    1.0\n",
       "TEAD4      1.0      0.0  1.0      0.0    1.0   1.0    1.0      1.0    1.0\n",
       "USF1       0.0      1.0  1.0      0.0    1.0   1.0    0.0      1.0    1.0\n",
       "USF2       1.0      1.0  1.0      1.0    1.0   1.0    0.0      1.0    1.0"
      ]
     },
     "execution_count": 4,
     "metadata": {},
     "output_type": "execute_result"
    }
   ],
   "source": [
    "download_table2[download_table2['H1'] + download_table2['SK-N-SH'] + download_table2['WTC11'] == 3]"
   ]
  },
  {
   "cell_type": "code",
   "execution_count": null,
   "metadata": {},
   "outputs": [],
   "source": [
    "download_table2[download_table2.sum(axis=1) == 9]\n",
    "\n",
    "SK-N-SH: 51 / CTCF 6 / MAX 19\n",
    "H1: 38 / CTCF 7 / MAX 16\n",
    "MCF-7: 80 / CTCF 7 / MAX 33\n",
    "GM12878: 109 / CTCF 17 / MAX 43\n",
    "\n",
    "WTC11: 82 / CTCF 12 / MAX 32"
   ]
  }
 ],
 "metadata": {
  "kernelspec": {
   "display_name": "selenium",
   "language": "python",
   "name": "python3"
  },
  "language_info": {
   "codemirror_mode": {
    "name": "ipython",
    "version": 3
   },
   "file_extension": ".py",
   "mimetype": "text/x-python",
   "name": "python",
   "nbconvert_exporter": "python",
   "pygments_lexer": "ipython3",
   "version": "3.10.11"
  }
 },
 "nbformat": 4,
 "nbformat_minor": 2
}
