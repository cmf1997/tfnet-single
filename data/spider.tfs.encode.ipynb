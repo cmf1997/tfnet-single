{
 "cells": [
  {
   "cell_type": "markdown",
   "metadata": {},
   "source": [
    "## Presence of tfs family in different cell line"
   ]
  },
  {
   "cell_type": "code",
   "execution_count": null,
   "metadata": {},
   "outputs": [],
   "source": [
    "import matplotlib.pyplot as plt\n",
    "import pandas as pd\n",
    "from comut import comut\n",
    "import seaborn as sns"
   ]
  },
  {
   "cell_type": "code",
   "execution_count": null,
   "metadata": {},
   "outputs": [],
   "source": [
    "plt.rcParams['figure.dpi'] = 150"
   ]
  },
  {
   "cell_type": "code",
   "execution_count": null,
   "metadata": {},
   "outputs": [],
   "source": [
    "safari_options = Options()\n",
    "safari_options.add_argument(\"headless\")"
   ]
  },
  {
   "cell_type": "code",
   "execution_count": null,
   "metadata": {},
   "outputs": [],
   "source": [
    "baseurl = r'https://www.encodeproject.org/matrix/?type=Experiment&control_type%21=%2A&status=released&perturbed=false&assay_title=TF+ChIP-seq&target.investigated_as=transcription+factor&replicates.library.biosample.donor.organism.scientific_name=Homo+sapiens&biosample_ontology.classification=cell+line&biosample_ontology.term_name='"
   ]
  },
  {
   "cell_type": "code",
   "execution_count": null,
   "metadata": {},
   "outputs": [],
   "source": [
    "# select cell : HepG2, K562, HEK293, GM12878, MCF-7, WTC11, A549, SK-N-SH, HeLa-S3, H1"
   ]
  },
  {
   "cell_type": "code",
   "execution_count": null,
   "metadata": {},
   "outputs": [],
   "source": [
    "cell_lines = []\n",
    "tfs = []\n",
    "counts = []\n",
    "\n",
    "for cellline in ['HepG2', 'K562', 'HEK293', 'GM12878', 'MCF-7', 'WTC11', 'A549', 'SK-N-SH', 'HeLa-S3', 'H1']:\n",
    "    url = baseurl + cellline\n",
    "    dr = webdriver.Safari(options=safari_options)\n",
    "    dr.implicitly_wait(10)\n",
    "    dr.get(url)\n",
    "    dr.implicitly_wait(10)\n",
    "    tfs_div = dr.find_element(By.XPATH,'//*[@id=\"facet-group-Assay-Experiment\"]/div[4]/div/div[2]/ul/div[1]')\n",
    "    tf_div = tfs_div.find_elements(By.CLASS_NAME, 'facet-term')\n",
    "    for index, tf in enumerate(tf_div):\n",
    "        cell_lines.append(cellline)\n",
    "        tfs.append(tf.find_element(By.CLASS_NAME, 'facet-term__text').text)\n",
    "        counts.append(tf.find_element(By.CLASS_NAME, 'facet-term__count').text)\n",
    "    dr.quit()\n"
   ]
  },
  {
   "cell_type": "code",
   "execution_count": null,
   "metadata": {},
   "outputs": [],
   "source": [
    "tfs_data_encode = pd.DataFrame({\n",
    "    \"Cell\" : cell_lines,\n",
    "    \"TF\" : tfs,\n",
    "    \"Count\" : counts\n",
    "})"
   ]
  },
  {
   "cell_type": "code",
   "execution_count": null,
   "metadata": {},
   "outputs": [],
   "source": [
    "tfs_data_encode.groupby('Cell').size()"
   ]
  },
  {
   "cell_type": "code",
   "execution_count": null,
   "metadata": {},
   "outputs": [],
   "source": [
    "tfs_family = pd.read_csv('data/tfs_family.csv')\n",
    "tfs_family_dict = dict(tfs_family[['Name','Family']].values)\n",
    "\n",
    "# add Unkonw\n",
    "for i in tfs_data_encode['TF']:\n",
    "    if i in tfs_family_dict.keys():\n",
    "        pass\n",
    "    else:\n",
    "        tfs_family_dict[i] = \"Unknown\"\n",
    "\n"
   ]
  },
  {
   "cell_type": "code",
   "execution_count": null,
   "metadata": {},
   "outputs": [],
   "source": [
    "tfs_data_encode['Family'] = [ tfs_family_dict[i] for i in tfs_data_encode['TF'] ]"
   ]
  },
  {
   "cell_type": "code",
   "execution_count": null,
   "metadata": {},
   "outputs": [],
   "source": []
  },
  {
   "cell_type": "code",
   "execution_count": null,
   "metadata": {},
   "outputs": [],
   "source": [
    "sns.barplot(tfs_data_encode.groupby(['Cell', 'Family']).size().reset_index(name=\"Count\"), x = \"Family\", y=\"Count\", hue=\"Cell\")\n",
    "plt.tick_params(axis='x', labelrotation=45)\n",
    "plt.show()"
   ]
  },
  {
   "cell_type": "code",
   "execution_count": null,
   "metadata": {},
   "outputs": [],
   "source": [
    "tfs_data_encode.groupby(['Cell', 'Family']).size()"
   ]
  },
  {
   "cell_type": "code",
   "execution_count": null,
   "metadata": {},
   "outputs": [],
   "source": [
    "len(tfs_data_encode.drop_duplicates('Family')['Family'])"
   ]
  },
  {
   "cell_type": "code",
   "execution_count": null,
   "metadata": {},
   "outputs": [],
   "source": [
    "comut_data = tfs_data_encode.groupby(['Cell', 'Family']).size().reset_index(name=\"Count\")\n",
    "comut_data.columns = ['category', 'sample', 'value']\n",
    "#comut_data['value'] = [ 1/ (1 + np.exp(-i)) for i in comut_data['value'].tolist() ]\n",
    "comut_data['value'] = \"1\""
   ]
  },
  {
   "cell_type": "code",
   "execution_count": null,
   "metadata": {},
   "outputs": [],
   "source": [
    "family_comut = comut.CoMut()\n",
    "mut_mapping={\"1\":\"#4876FF\"}\n",
    "family_comut.add_categorical_data(comut_data, name='type',mapping=mut_mapping)\n",
    "#family_comut.add_continuous_data(comut_data, name='type')\n",
    "family_comut.plot_comut(figsize = (10,3),x_padding = 0.04, y_padding = 0.04)\n",
    "plt.savefig(\"results/encode.tf.family.pdf\")"
   ]
  },
  {
   "cell_type": "code",
   "execution_count": null,
   "metadata": {},
   "outputs": [],
   "source": []
  },
  {
   "cell_type": "code",
   "execution_count": null,
   "metadata": {},
   "outputs": [],
   "source": []
  },
  {
   "cell_type": "code",
   "execution_count": null,
   "metadata": {},
   "outputs": [],
   "source": []
  },
  {
   "cell_type": "code",
   "execution_count": null,
   "metadata": {},
   "outputs": [],
   "source": []
  },
  {
   "cell_type": "code",
   "execution_count": null,
   "metadata": {},
   "outputs": [],
   "source": []
  },
  {
   "cell_type": "markdown",
   "metadata": {},
   "source": [
    "## Spider - Encode Project for each cell line"
   ]
  },
  {
   "cell_type": "code",
   "execution_count": null,
   "metadata": {},
   "outputs": [],
   "source": [
    "from selenium import webdriver\n",
    "from time import sleep\n",
    "from selenium.webdriver.common.by import By\n",
    "from selenium.webdriver.safari.options import Options\n",
    "from selenium.webdriver.common.keys import Keys\n",
    "from selenium.webdriver.support import expected_conditions as EC\n",
    "from selenium.common.exceptions import TimeoutException\n",
    "from selenium.webdriver.support.ui import WebDriverWait\n",
    "import pandas as pd"
   ]
  },
  {
   "cell_type": "code",
   "execution_count": null,
   "metadata": {},
   "outputs": [],
   "source": [
    "#encode_hg19 = pd.read_csv('/Users/cmf/Downloads/TFNet-single-tf/data/encode/encode.report.select.cell.tfs.hg19.tsv',header=0, sep='\\t',skiprows=1)\n",
    "encode_hg19 = pd.read_csv('/Users/cmf/Downloads/TFNet-single-tf/data/encode/encode.report.select.cell.tfs.hg19.tsv',header=0, sep='\\t')\n",
    "encode_grch38 = pd.read_csv('/Users/cmf/Downloads/TFNet-single-tf/data/encode/encode.report.select.cell.tfs.grch38.tsv',header=0, sep='\\t')"
   ]
  },
  {
   "cell_type": "code",
   "execution_count": null,
   "metadata": {},
   "outputs": [],
   "source": [
    "encode_hg19[['Accession', 'Target gene symbol', 'Biosample term name']]\n",
    "base_url = 'https://www.encodeproject.org/experiments/'"
   ]
  },
  {
   "cell_type": "code",
   "execution_count": null,
   "metadata": {},
   "outputs": [],
   "source": [
    "safari_options = Options()\n",
    "safari_options.add_argument(\"headless\")"
   ]
  },
  {
   "cell_type": "code",
   "execution_count": null,
   "metadata": {},
   "outputs": [],
   "source": [
    "projects = []\n",
    "file_accessions= []\n",
    "file_types = []\n",
    "output_types = []\n",
    "isogenic_replicates = []\n",
    "genomes = []\n",
    "encode_pipes = []\n",
    "\n",
    "dr = webdriver.Safari(options=safari_options)\n",
    "dr.implicitly_wait(10)\n",
    "\n",
    "#for accession in encode_hg19['Accession']:\n",
    "for accession in encode_hg19['Accession'].tolist()[728:]:\n",
    "    url = base_url + accession\n",
    "    dr.get(url)\n",
    "    sleep(3)\n",
    "    dr.find_element(By.XPATH,'//*[@id=\"content\"]/div/div[3]/div[2]/div[2]/div[1]/ul/li[3]/a').send_keys(Keys.ENTER)\n",
    "    try:\n",
    "        WebDriverWait(dr,10,0.2).until(EC.presence_of_element_located((By.XPATH,'//*[@id=\"tables\"]/div/div[2]/div[2]/div')))\n",
    "    except TimeoutException:\n",
    "        sleep(3)\n",
    "    encode_div = dr.find_element(By.XPATH, '//*[@id=\"tables\"]/div/div[2]/div[2]/div')\n",
    "    for index, table in enumerate(encode_div.find_elements(By.CLASS_NAME,'table__sortable')):\n",
    "        if index != 0:\n",
    "            if table.find_element(By.CLASS_NAME, 'title-main-content__analysis-title').text.find(\"hg19\") !=-1 :\n",
    "                encode_pipe = table.find_element(By.CLASS_NAME, 'title-main-content__analysis-title').text.split(\" \")[0]\n",
    "                tbody = table.find_element(By.TAG_NAME,'tbody')\n",
    "                for tr in tbody.find_elements(By.TAG_NAME,'tr'):\n",
    "                    tds = tr.find_elements(By.TAG_NAME,'td')\n",
    "                    if tds[2].text == 'bed narrowPeak' and tds[3].text == 'optimal IDR thresholded peaks':\n",
    "                        projects.append(accession)\n",
    "                        genomes.append(\"hg19\")\n",
    "                        file_accessions.append(tds[0].text.rstrip(\"Open file informationDownload\"))\n",
    "                        file_types.append(tds[2].text)\n",
    "                        output_types.append(tds[3].text)\n",
    "                        isogenic_replicates.append(tds[4].text)\n",
    "                        encode_pipes.append(encode_pipe)\n",
    "                        print(accession)\n",
    "    dr.quit()\n",
    "\n",
    "\n",
    "encode_hg19_spider = pd.DataFrame({\n",
    "    \"project\" : projects,\n",
    "    \"genome\" : genomes,\n",
    "    \"file_accession\" : file_accessions,\n",
    "    \"type\" : file_types,\n",
    "    \"output_type\" : output_types,\n",
    "    \"replicates\" : isogenic_replicates,\n",
    "    \"pipe\": encode_pipes\n",
    "})\n",
    "\n",
    "encode_hg19_spider.to_csv(\"data/encode_hg19_spider.csv\",header=True, index=False)\n",
    "\n",
    "\n"
   ]
  },
  {
   "cell_type": "code",
   "execution_count": null,
   "metadata": {},
   "outputs": [],
   "source": [
    "projects = []\n",
    "file_accessions= []\n",
    "file_types = []\n",
    "output_types = []\n",
    "isogenic_replicates = []\n",
    "genomes = []\n",
    "encode_pipes = []\n",
    "\n",
    "dr = webdriver.Safari(options=safari_options)\n",
    "dr.implicitly_wait(10)\n",
    "\n",
    "for accession in encode_grch38['Accession']:\n",
    "    url = base_url + accession\n",
    "    dr.get(url)\n",
    "    sleep(3)\n",
    "    dr.find_element(By.XPATH,'//*[@id=\"content\"]/div/div[3]/div[2]/div[2]/div[1]/ul/li[3]/a').send_keys(Keys.ENTER)\n",
    "    try:\n",
    "        WebDriverWait(dr,10,0.2).until(EC.presence_of_element_located((By.XPATH,'//*[@id=\"tables\"]/div/div[2]/div[2]/div')))\n",
    "    except TimeoutException:\n",
    "        sleep(3)\n",
    "    encode_div = dr.find_element(By.XPATH, '//*[@id=\"tables\"]/div/div[2]/div[2]/div')\n",
    "    for index, table in enumerate(encode_div.find_elements(By.CLASS_NAME,'table__sortable')):\n",
    "        if index != 0:\n",
    "            if table.find_element(By.CLASS_NAME, 'title-main-content__analysis-title').text.find(\"GRCh38\") !=-1 :\n",
    "                encode_pipe = table.find_element(By.CLASS_NAME, 'title-main-content__analysis-title').text.split(\" \")[0]\n",
    "                tbody = table.find_element(By.TAG_NAME,'tbody')\n",
    "                for tr in tbody.find_elements(By.TAG_NAME,'tr'):\n",
    "                    tds = tr.find_elements(By.TAG_NAME,'td')\n",
    "                    if tds[2].text == 'bed narrowPeak' and (tds[3].text == 'optimal IDR thresholded peaks' or tds[3].text == 'IDR thresholded peaks'):\n",
    "                        projects.append(accession)\n",
    "                        print(accession)\n",
    "                        genomes.append(\"GRCh38\")\n",
    "                        file_accessions.append(tds[0].text.rstrip(\"Open file informationDownload\"))\n",
    "                        file_types.append(tds[2].text)\n",
    "                        output_types.append(tds[3].text)\n",
    "                        isogenic_replicates.append(tds[4].text)\n",
    "                        encode_pipes.append(encode_pipe)\n",
    "    dr.quit()\n",
    "\n",
    "\n",
    "encode_grch38_spider = pd.DataFrame({\n",
    "    \"project\" : projects,\n",
    "    \"genome\" : genomes,\n",
    "    \"file_accession\" : file_accessions,\n",
    "    \"type\" : file_types,\n",
    "    \"output_type\" : output_types,\n",
    "    \"replicates\" : isogenic_replicates,\n",
    "    \"pipe\": encode_pipes\n",
    "})\n",
    "\n",
    "encode_grch38_spider.to_csv(\"data/encode_grch38_spider.csv\",header=True, index=False)"
   ]
  },
  {
   "cell_type": "code",
   "execution_count": null,
   "metadata": {},
   "outputs": [],
   "source": []
  },
  {
   "cell_type": "code",
   "execution_count": null,
   "metadata": {},
   "outputs": [],
   "source": []
  },
  {
   "cell_type": "code",
   "execution_count": null,
   "metadata": {},
   "outputs": [],
   "source": []
  },
  {
   "cell_type": "code",
   "execution_count": null,
   "metadata": {},
   "outputs": [],
   "source": [
    "df_nation_freq_all = pd.read_csv('/Users/cmf/Downloads/mhc-related-backup/filter_mhc_ratio_nation.csv')"
   ]
  },
  {
   "cell_type": "code",
   "execution_count": null,
   "metadata": {},
   "outputs": [],
   "source": [
    "df_nation_freq_all[df_nation_freq_all['nation'] == 'Western Asia'].sort_values(by=\"Ratio\",ascending=False)[['nation','Allele','Ratio']].to_csv(\"data/WesternAsia_MHC_Ratio.csv\", header=True, index=False)"
   ]
  }
 ],
 "metadata": {
  "kernelspec": {
   "display_name": "selenium",
   "language": "python",
   "name": "python3"
  },
  "language_info": {
   "name": "python",
   "version": "3.12.1"
  }
 },
 "nbformat": 4,
 "nbformat_minor": 2
}
